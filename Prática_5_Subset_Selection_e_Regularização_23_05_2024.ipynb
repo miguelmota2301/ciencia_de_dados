{
  "nbformat": 4,
  "nbformat_minor": 0,
  "metadata": {
    "colab": {
      "provenance": [],
      "toc_visible": true,
      "authorship_tag": "ABX9TyMFYVogrpwu4hswqUA03KNA",
      "include_colab_link": true
    },
    "kernelspec": {
      "name": "python3",
      "display_name": "Python 3"
    },
    "language_info": {
      "name": "python"
    }
  },
  "cells": [
    {
      "cell_type": "markdown",
      "metadata": {
        "id": "view-in-github",
        "colab_type": "text"
      },
      "source": [
        "<a href=\"https://colab.research.google.com/github/miguelmota2301/ciencia_de_dados/blob/main/Pr%C3%A1tica_5_Subset_Selection_e_Regulariza%C3%A7%C3%A3o_23_05_2024.ipynb\" target=\"_parent\"><img src=\"https://colab.research.google.com/assets/colab-badge.svg\" alt=\"Open In Colab\"/></a>"
      ]
    },
    {
      "cell_type": "markdown",
      "source": [
        "Autor: Miguel Feliciano Mota Alves"
      ],
      "metadata": {
        "id": "kCd5hQOvICcA"
      }
    },
    {
      "cell_type": "markdown",
      "source": [
        "# Bibliotecas"
      ],
      "metadata": {
        "id": "GjUf_VW16ML8"
      }
    },
    {
      "cell_type": "code",
      "source": [
        "import pandas as pd\n",
        "import numpy as np\n",
        "import matplotlib.pyplot as plt\n",
        "import seaborn as sns"
      ],
      "metadata": {
        "id": "OLsx2tNq6O-s"
      },
      "execution_count": null,
      "outputs": []
    },
    {
      "cell_type": "markdown",
      "source": [
        "A função `combinations` será responsável por fazer as combinações necessárias para o subset selection.\n",
        "\n",
        "Documentação: [itertools.combinations](https://docs.python.org/3/library/itertools.html#itertools.combinations)"
      ],
      "metadata": {
        "id": "Lbj47i376hGb"
      }
    },
    {
      "cell_type": "code",
      "source": [
        "from itertools import combinations"
      ],
      "metadata": {
        "id": "oAt4rwJ26avr"
      },
      "execution_count": null,
      "outputs": []
    },
    {
      "cell_type": "code",
      "source": [
        "from sklearn.model_selection import train_test_split, cross_val_score, cross_validate\n",
        "from sklearn.linear_model import LinearRegression\n",
        "from sklearn.metrics import r2_score, mean_squared_error\n",
        "from sklearn.preprocessing import StandardScaler"
      ],
      "metadata": {
        "id": "j_uCgG0U7CLd"
      },
      "execution_count": null,
      "outputs": []
    },
    {
      "cell_type": "markdown",
      "source": [
        "Veremos adiante como utilizar a validação cruzada com dados padronizados.\n",
        "\n",
        "Documentação: [Pipeline()](https://scikit-learn.org/stable/modules/generated/sklearn.pipeline.Pipeline.html)"
      ],
      "metadata": {
        "id": "JEchQzVkfik5"
      }
    },
    {
      "cell_type": "code",
      "source": [
        "from sklearn.pipeline import Pipeline"
      ],
      "metadata": {
        "id": "wzD2aYDwfe5M"
      },
      "execution_count": null,
      "outputs": []
    },
    {
      "cell_type": "markdown",
      "source": [
        "# Data Set\n",
        "\n",
        "Usaremos o banco de dados [Abalone](https://www.kaggle.com/datasets/nayanack/abalone-dataset-from-uci/data?select=abalone1.data.txt), disponível no [UCI Repository](https://archive.ics.uci.edu/dataset/1/abalone). Nesse banco de dados, temos algumas informações do animal abalone (sexo, largura, diâmetro, altura, ...) a fim de descubrir a idade do animal (rings).\n",
        "\n",
        "Recomendo baixar do link [Abalone](https://www.kaggle.com/datasets/nayanack/abalone-dataset-from-uci/data?select=abalone1.data.txt) e fazer o upload no drive."
      ],
      "metadata": {
        "id": "5hHmk6dx0jAX"
      }
    },
    {
      "cell_type": "code",
      "source": [
        "from google.colab import drive\n",
        "drive.mount('/content/drive')"
      ],
      "metadata": {
        "colab": {
          "base_uri": "https://localhost:8080/"
        },
        "id": "oZD5uPZz_Ltm",
        "outputId": "3de64c11-031a-4dfa-85e6-caecff8a6115"
      },
      "execution_count": null,
      "outputs": [
        {
          "output_type": "stream",
          "name": "stdout",
          "text": [
            "Mounted at /content/drive\n"
          ]
        }
      ]
    },
    {
      "cell_type": "code",
      "source": [
        "df = pd.read_csv('/content/drive/MyDrive/archive/abalone1.data.txt')\n",
        "df"
      ],
      "metadata": {
        "colab": {
          "base_uri": "https://localhost:8080/",
          "height": 423
        },
        "id": "xoOIxtrj_bjm",
        "outputId": "533b29c1-2ef7-442a-eab1-26cd4a53af6d"
      },
      "execution_count": null,
      "outputs": [
        {
          "output_type": "execute_result",
          "data": {
            "text/plain": [
              "     Sex   Length   Diameter   Height   Whole_weight   Shucked_weight  \\\n",
              "0      M    0.455      0.365    0.095         0.5140           0.2245   \n",
              "1      M    0.350      0.265    0.090         0.2255           0.0995   \n",
              "2      F    0.530      0.420    0.135         0.6770           0.2565   \n",
              "3      M    0.440      0.365    0.125         0.5160           0.2155   \n",
              "4      I    0.330      0.255    0.080         0.2050           0.0895   \n",
              "...   ..      ...        ...      ...            ...              ...   \n",
              "4172   F    0.565      0.450    0.165         0.8870           0.3700   \n",
              "4173   M    0.590      0.440    0.135         0.9660           0.4390   \n",
              "4174   M    0.600      0.475    0.205         1.1760           0.5255   \n",
              "4175   F    0.625      0.485    0.150         1.0945           0.5310   \n",
              "4176   M    0.710      0.555    0.195         1.9485           0.9455   \n",
              "\n",
              "       Viscera_weight   Shell_weight\\t   Rings  \n",
              "0              0.1010           0.1500      15  \n",
              "1              0.0485           0.0700       7  \n",
              "2              0.1415           0.2100       9  \n",
              "3              0.1140           0.1550      10  \n",
              "4              0.0395           0.0550       7  \n",
              "...               ...              ...     ...  \n",
              "4172           0.2390           0.2490      11  \n",
              "4173           0.2145           0.2605      10  \n",
              "4174           0.2875           0.3080       9  \n",
              "4175           0.2610           0.2960      10  \n",
              "4176           0.3765           0.4950      12  \n",
              "\n",
              "[4177 rows x 9 columns]"
            ],
            "text/html": [
              "\n",
              "  <div id=\"df-00800913-4454-4298-9cf3-802d7fc090df\" class=\"colab-df-container\">\n",
              "    <div>\n",
              "<style scoped>\n",
              "    .dataframe tbody tr th:only-of-type {\n",
              "        vertical-align: middle;\n",
              "    }\n",
              "\n",
              "    .dataframe tbody tr th {\n",
              "        vertical-align: top;\n",
              "    }\n",
              "\n",
              "    .dataframe thead th {\n",
              "        text-align: right;\n",
              "    }\n",
              "</style>\n",
              "<table border=\"1\" class=\"dataframe\">\n",
              "  <thead>\n",
              "    <tr style=\"text-align: right;\">\n",
              "      <th></th>\n",
              "      <th>Sex</th>\n",
              "      <th>Length</th>\n",
              "      <th>Diameter</th>\n",
              "      <th>Height</th>\n",
              "      <th>Whole_weight</th>\n",
              "      <th>Shucked_weight</th>\n",
              "      <th>Viscera_weight</th>\n",
              "      <th>Shell_weight\\t</th>\n",
              "      <th>Rings</th>\n",
              "    </tr>\n",
              "  </thead>\n",
              "  <tbody>\n",
              "    <tr>\n",
              "      <th>0</th>\n",
              "      <td>M</td>\n",
              "      <td>0.455</td>\n",
              "      <td>0.365</td>\n",
              "      <td>0.095</td>\n",
              "      <td>0.5140</td>\n",
              "      <td>0.2245</td>\n",
              "      <td>0.1010</td>\n",
              "      <td>0.1500</td>\n",
              "      <td>15</td>\n",
              "    </tr>\n",
              "    <tr>\n",
              "      <th>1</th>\n",
              "      <td>M</td>\n",
              "      <td>0.350</td>\n",
              "      <td>0.265</td>\n",
              "      <td>0.090</td>\n",
              "      <td>0.2255</td>\n",
              "      <td>0.0995</td>\n",
              "      <td>0.0485</td>\n",
              "      <td>0.0700</td>\n",
              "      <td>7</td>\n",
              "    </tr>\n",
              "    <tr>\n",
              "      <th>2</th>\n",
              "      <td>F</td>\n",
              "      <td>0.530</td>\n",
              "      <td>0.420</td>\n",
              "      <td>0.135</td>\n",
              "      <td>0.6770</td>\n",
              "      <td>0.2565</td>\n",
              "      <td>0.1415</td>\n",
              "      <td>0.2100</td>\n",
              "      <td>9</td>\n",
              "    </tr>\n",
              "    <tr>\n",
              "      <th>3</th>\n",
              "      <td>M</td>\n",
              "      <td>0.440</td>\n",
              "      <td>0.365</td>\n",
              "      <td>0.125</td>\n",
              "      <td>0.5160</td>\n",
              "      <td>0.2155</td>\n",
              "      <td>0.1140</td>\n",
              "      <td>0.1550</td>\n",
              "      <td>10</td>\n",
              "    </tr>\n",
              "    <tr>\n",
              "      <th>4</th>\n",
              "      <td>I</td>\n",
              "      <td>0.330</td>\n",
              "      <td>0.255</td>\n",
              "      <td>0.080</td>\n",
              "      <td>0.2050</td>\n",
              "      <td>0.0895</td>\n",
              "      <td>0.0395</td>\n",
              "      <td>0.0550</td>\n",
              "      <td>7</td>\n",
              "    </tr>\n",
              "    <tr>\n",
              "      <th>...</th>\n",
              "      <td>...</td>\n",
              "      <td>...</td>\n",
              "      <td>...</td>\n",
              "      <td>...</td>\n",
              "      <td>...</td>\n",
              "      <td>...</td>\n",
              "      <td>...</td>\n",
              "      <td>...</td>\n",
              "      <td>...</td>\n",
              "    </tr>\n",
              "    <tr>\n",
              "      <th>4172</th>\n",
              "      <td>F</td>\n",
              "      <td>0.565</td>\n",
              "      <td>0.450</td>\n",
              "      <td>0.165</td>\n",
              "      <td>0.8870</td>\n",
              "      <td>0.3700</td>\n",
              "      <td>0.2390</td>\n",
              "      <td>0.2490</td>\n",
              "      <td>11</td>\n",
              "    </tr>\n",
              "    <tr>\n",
              "      <th>4173</th>\n",
              "      <td>M</td>\n",
              "      <td>0.590</td>\n",
              "      <td>0.440</td>\n",
              "      <td>0.135</td>\n",
              "      <td>0.9660</td>\n",
              "      <td>0.4390</td>\n",
              "      <td>0.2145</td>\n",
              "      <td>0.2605</td>\n",
              "      <td>10</td>\n",
              "    </tr>\n",
              "    <tr>\n",
              "      <th>4174</th>\n",
              "      <td>M</td>\n",
              "      <td>0.600</td>\n",
              "      <td>0.475</td>\n",
              "      <td>0.205</td>\n",
              "      <td>1.1760</td>\n",
              "      <td>0.5255</td>\n",
              "      <td>0.2875</td>\n",
              "      <td>0.3080</td>\n",
              "      <td>9</td>\n",
              "    </tr>\n",
              "    <tr>\n",
              "      <th>4175</th>\n",
              "      <td>F</td>\n",
              "      <td>0.625</td>\n",
              "      <td>0.485</td>\n",
              "      <td>0.150</td>\n",
              "      <td>1.0945</td>\n",
              "      <td>0.5310</td>\n",
              "      <td>0.2610</td>\n",
              "      <td>0.2960</td>\n",
              "      <td>10</td>\n",
              "    </tr>\n",
              "    <tr>\n",
              "      <th>4176</th>\n",
              "      <td>M</td>\n",
              "      <td>0.710</td>\n",
              "      <td>0.555</td>\n",
              "      <td>0.195</td>\n",
              "      <td>1.9485</td>\n",
              "      <td>0.9455</td>\n",
              "      <td>0.3765</td>\n",
              "      <td>0.4950</td>\n",
              "      <td>12</td>\n",
              "    </tr>\n",
              "  </tbody>\n",
              "</table>\n",
              "<p>4177 rows × 9 columns</p>\n",
              "</div>\n",
              "    <div class=\"colab-df-buttons\">\n",
              "\n",
              "  <div class=\"colab-df-container\">\n",
              "    <button class=\"colab-df-convert\" onclick=\"convertToInteractive('df-00800913-4454-4298-9cf3-802d7fc090df')\"\n",
              "            title=\"Convert this dataframe to an interactive table.\"\n",
              "            style=\"display:none;\">\n",
              "\n",
              "  <svg xmlns=\"http://www.w3.org/2000/svg\" height=\"24px\" viewBox=\"0 -960 960 960\">\n",
              "    <path d=\"M120-120v-720h720v720H120Zm60-500h600v-160H180v160Zm220 220h160v-160H400v160Zm0 220h160v-160H400v160ZM180-400h160v-160H180v160Zm440 0h160v-160H620v160ZM180-180h160v-160H180v160Zm440 0h160v-160H620v160Z\"/>\n",
              "  </svg>\n",
              "    </button>\n",
              "\n",
              "  <style>\n",
              "    .colab-df-container {\n",
              "      display:flex;\n",
              "      gap: 12px;\n",
              "    }\n",
              "\n",
              "    .colab-df-convert {\n",
              "      background-color: #E8F0FE;\n",
              "      border: none;\n",
              "      border-radius: 50%;\n",
              "      cursor: pointer;\n",
              "      display: none;\n",
              "      fill: #1967D2;\n",
              "      height: 32px;\n",
              "      padding: 0 0 0 0;\n",
              "      width: 32px;\n",
              "    }\n",
              "\n",
              "    .colab-df-convert:hover {\n",
              "      background-color: #E2EBFA;\n",
              "      box-shadow: 0px 1px 2px rgba(60, 64, 67, 0.3), 0px 1px 3px 1px rgba(60, 64, 67, 0.15);\n",
              "      fill: #174EA6;\n",
              "    }\n",
              "\n",
              "    .colab-df-buttons div {\n",
              "      margin-bottom: 4px;\n",
              "    }\n",
              "\n",
              "    [theme=dark] .colab-df-convert {\n",
              "      background-color: #3B4455;\n",
              "      fill: #D2E3FC;\n",
              "    }\n",
              "\n",
              "    [theme=dark] .colab-df-convert:hover {\n",
              "      background-color: #434B5C;\n",
              "      box-shadow: 0px 1px 3px 1px rgba(0, 0, 0, 0.15);\n",
              "      filter: drop-shadow(0px 1px 2px rgba(0, 0, 0, 0.3));\n",
              "      fill: #FFFFFF;\n",
              "    }\n",
              "  </style>\n",
              "\n",
              "    <script>\n",
              "      const buttonEl =\n",
              "        document.querySelector('#df-00800913-4454-4298-9cf3-802d7fc090df button.colab-df-convert');\n",
              "      buttonEl.style.display =\n",
              "        google.colab.kernel.accessAllowed ? 'block' : 'none';\n",
              "\n",
              "      async function convertToInteractive(key) {\n",
              "        const element = document.querySelector('#df-00800913-4454-4298-9cf3-802d7fc090df');\n",
              "        const dataTable =\n",
              "          await google.colab.kernel.invokeFunction('convertToInteractive',\n",
              "                                                    [key], {});\n",
              "        if (!dataTable) return;\n",
              "\n",
              "        const docLinkHtml = 'Like what you see? Visit the ' +\n",
              "          '<a target=\"_blank\" href=https://colab.research.google.com/notebooks/data_table.ipynb>data table notebook</a>'\n",
              "          + ' to learn more about interactive tables.';\n",
              "        element.innerHTML = '';\n",
              "        dataTable['output_type'] = 'display_data';\n",
              "        await google.colab.output.renderOutput(dataTable, element);\n",
              "        const docLink = document.createElement('div');\n",
              "        docLink.innerHTML = docLinkHtml;\n",
              "        element.appendChild(docLink);\n",
              "      }\n",
              "    </script>\n",
              "  </div>\n",
              "\n",
              "\n",
              "<div id=\"df-c455de62-fc19-4c76-a216-e339699beb45\">\n",
              "  <button class=\"colab-df-quickchart\" onclick=\"quickchart('df-c455de62-fc19-4c76-a216-e339699beb45')\"\n",
              "            title=\"Suggest charts\"\n",
              "            style=\"display:none;\">\n",
              "\n",
              "<svg xmlns=\"http://www.w3.org/2000/svg\" height=\"24px\"viewBox=\"0 0 24 24\"\n",
              "     width=\"24px\">\n",
              "    <g>\n",
              "        <path d=\"M19 3H5c-1.1 0-2 .9-2 2v14c0 1.1.9 2 2 2h14c1.1 0 2-.9 2-2V5c0-1.1-.9-2-2-2zM9 17H7v-7h2v7zm4 0h-2V7h2v10zm4 0h-2v-4h2v4z\"/>\n",
              "    </g>\n",
              "</svg>\n",
              "  </button>\n",
              "\n",
              "<style>\n",
              "  .colab-df-quickchart {\n",
              "      --bg-color: #E8F0FE;\n",
              "      --fill-color: #1967D2;\n",
              "      --hover-bg-color: #E2EBFA;\n",
              "      --hover-fill-color: #174EA6;\n",
              "      --disabled-fill-color: #AAA;\n",
              "      --disabled-bg-color: #DDD;\n",
              "  }\n",
              "\n",
              "  [theme=dark] .colab-df-quickchart {\n",
              "      --bg-color: #3B4455;\n",
              "      --fill-color: #D2E3FC;\n",
              "      --hover-bg-color: #434B5C;\n",
              "      --hover-fill-color: #FFFFFF;\n",
              "      --disabled-bg-color: #3B4455;\n",
              "      --disabled-fill-color: #666;\n",
              "  }\n",
              "\n",
              "  .colab-df-quickchart {\n",
              "    background-color: var(--bg-color);\n",
              "    border: none;\n",
              "    border-radius: 50%;\n",
              "    cursor: pointer;\n",
              "    display: none;\n",
              "    fill: var(--fill-color);\n",
              "    height: 32px;\n",
              "    padding: 0;\n",
              "    width: 32px;\n",
              "  }\n",
              "\n",
              "  .colab-df-quickchart:hover {\n",
              "    background-color: var(--hover-bg-color);\n",
              "    box-shadow: 0 1px 2px rgba(60, 64, 67, 0.3), 0 1px 3px 1px rgba(60, 64, 67, 0.15);\n",
              "    fill: var(--button-hover-fill-color);\n",
              "  }\n",
              "\n",
              "  .colab-df-quickchart-complete:disabled,\n",
              "  .colab-df-quickchart-complete:disabled:hover {\n",
              "    background-color: var(--disabled-bg-color);\n",
              "    fill: var(--disabled-fill-color);\n",
              "    box-shadow: none;\n",
              "  }\n",
              "\n",
              "  .colab-df-spinner {\n",
              "    border: 2px solid var(--fill-color);\n",
              "    border-color: transparent;\n",
              "    border-bottom-color: var(--fill-color);\n",
              "    animation:\n",
              "      spin 1s steps(1) infinite;\n",
              "  }\n",
              "\n",
              "  @keyframes spin {\n",
              "    0% {\n",
              "      border-color: transparent;\n",
              "      border-bottom-color: var(--fill-color);\n",
              "      border-left-color: var(--fill-color);\n",
              "    }\n",
              "    20% {\n",
              "      border-color: transparent;\n",
              "      border-left-color: var(--fill-color);\n",
              "      border-top-color: var(--fill-color);\n",
              "    }\n",
              "    30% {\n",
              "      border-color: transparent;\n",
              "      border-left-color: var(--fill-color);\n",
              "      border-top-color: var(--fill-color);\n",
              "      border-right-color: var(--fill-color);\n",
              "    }\n",
              "    40% {\n",
              "      border-color: transparent;\n",
              "      border-right-color: var(--fill-color);\n",
              "      border-top-color: var(--fill-color);\n",
              "    }\n",
              "    60% {\n",
              "      border-color: transparent;\n",
              "      border-right-color: var(--fill-color);\n",
              "    }\n",
              "    80% {\n",
              "      border-color: transparent;\n",
              "      border-right-color: var(--fill-color);\n",
              "      border-bottom-color: var(--fill-color);\n",
              "    }\n",
              "    90% {\n",
              "      border-color: transparent;\n",
              "      border-bottom-color: var(--fill-color);\n",
              "    }\n",
              "  }\n",
              "</style>\n",
              "\n",
              "  <script>\n",
              "    async function quickchart(key) {\n",
              "      const quickchartButtonEl =\n",
              "        document.querySelector('#' + key + ' button');\n",
              "      quickchartButtonEl.disabled = true;  // To prevent multiple clicks.\n",
              "      quickchartButtonEl.classList.add('colab-df-spinner');\n",
              "      try {\n",
              "        const charts = await google.colab.kernel.invokeFunction(\n",
              "            'suggestCharts', [key], {});\n",
              "      } catch (error) {\n",
              "        console.error('Error during call to suggestCharts:', error);\n",
              "      }\n",
              "      quickchartButtonEl.classList.remove('colab-df-spinner');\n",
              "      quickchartButtonEl.classList.add('colab-df-quickchart-complete');\n",
              "    }\n",
              "    (() => {\n",
              "      let quickchartButtonEl =\n",
              "        document.querySelector('#df-c455de62-fc19-4c76-a216-e339699beb45 button');\n",
              "      quickchartButtonEl.style.display =\n",
              "        google.colab.kernel.accessAllowed ? 'block' : 'none';\n",
              "    })();\n",
              "  </script>\n",
              "</div>\n",
              "    </div>\n",
              "  </div>\n"
            ],
            "application/vnd.google.colaboratory.intrinsic+json": {
              "type": "dataframe",
              "variable_name": "df",
              "summary": "{\n  \"name\": \"df\",\n  \"rows\": 4177,\n  \"fields\": [\n    {\n      \"column\": \"Sex\",\n      \"properties\": {\n        \"dtype\": \"category\",\n        \"num_unique_values\": 3,\n        \"samples\": [\n          \"M\",\n          \"F\",\n          \"I\"\n        ],\n        \"semantic_type\": \"\",\n        \"description\": \"\"\n      }\n    },\n    {\n      \"column\": \" Length\",\n      \"properties\": {\n        \"dtype\": \"number\",\n        \"std\": 0.12009291256479956,\n        \"min\": 0.075,\n        \"max\": 0.815,\n        \"num_unique_values\": 134,\n        \"samples\": [\n          0.815,\n          0.65,\n          0.29\n        ],\n        \"semantic_type\": \"\",\n        \"description\": \"\"\n      }\n    },\n    {\n      \"column\": \" Diameter\",\n      \"properties\": {\n        \"dtype\": \"number\",\n        \"std\": 0.09923986613365945,\n        \"min\": 0.055,\n        \"max\": 0.65,\n        \"num_unique_values\": 111,\n        \"samples\": [\n          0.09,\n          0.35,\n          0.3\n        ],\n        \"semantic_type\": \"\",\n        \"description\": \"\"\n      }\n    },\n    {\n      \"column\": \" Height\",\n      \"properties\": {\n        \"dtype\": \"number\",\n        \"std\": 0.041827056607257274,\n        \"min\": 0.0,\n        \"max\": 1.13,\n        \"num_unique_values\": 51,\n        \"samples\": [\n          0.235,\n          0.035,\n          0.015\n        ],\n        \"semantic_type\": \"\",\n        \"description\": \"\"\n      }\n    },\n    {\n      \"column\": \" Whole_weight\",\n      \"properties\": {\n        \"dtype\": \"number\",\n        \"std\": 0.4903890182309977,\n        \"min\": 0.002,\n        \"max\": 2.8255,\n        \"num_unique_values\": 2429,\n        \"samples\": [\n          1.2825,\n          1.09,\n          0.131\n        ],\n        \"semantic_type\": \"\",\n        \"description\": \"\"\n      }\n    },\n    {\n      \"column\": \" Shucked_weight\",\n      \"properties\": {\n        \"dtype\": \"number\",\n        \"std\": 0.22196294903322014,\n        \"min\": 0.001,\n        \"max\": 1.488,\n        \"num_unique_values\": 1515,\n        \"samples\": [\n          0.2105,\n          0.0645,\n          0.476\n        ],\n        \"semantic_type\": \"\",\n        \"description\": \"\"\n      }\n    },\n    {\n      \"column\": \" Viscera_weight\",\n      \"properties\": {\n        \"dtype\": \"number\",\n        \"std\": 0.10961425025968446,\n        \"min\": 0.0005,\n        \"max\": 0.76,\n        \"num_unique_values\": 880,\n        \"samples\": [\n          0.0645,\n          0.0095,\n          0.1115\n        ],\n        \"semantic_type\": \"\",\n        \"description\": \"\"\n      }\n    },\n    {\n      \"column\": \" Shell_weight\\t\",\n      \"properties\": {\n        \"dtype\": \"number\",\n        \"std\": 0.1392026695223861,\n        \"min\": 0.0015,\n        \"max\": 1.005,\n        \"num_unique_values\": 926,\n        \"samples\": [\n          0.3745,\n          0.2825,\n          0.49\n        ],\n        \"semantic_type\": \"\",\n        \"description\": \"\"\n      }\n    },\n    {\n      \"column\": \" Rings\",\n      \"properties\": {\n        \"dtype\": \"number\",\n        \"std\": 3,\n        \"min\": 1,\n        \"max\": 29,\n        \"num_unique_values\": 28,\n        \"samples\": [\n          11,\n          27,\n          14\n        ],\n        \"semantic_type\": \"\",\n        \"description\": \"\"\n      }\n    }\n  ]\n}"
            }
          },
          "metadata": {},
          "execution_count": 6
        }
      ]
    },
    {
      "cell_type": "code",
      "source": [
        "df.isnull().sum()"
      ],
      "metadata": {
        "colab": {
          "base_uri": "https://localhost:8080/"
        },
        "id": "pLHtqUdkAKu2",
        "outputId": "fb38b160-6194-4631-ba73-89a7ecac72d6"
      },
      "execution_count": null,
      "outputs": [
        {
          "output_type": "execute_result",
          "data": {
            "text/plain": [
              "Sex                0\n",
              " Length            0\n",
              " Diameter          0\n",
              " Height            0\n",
              " Whole_weight      0\n",
              " Shucked_weight    0\n",
              " Viscera_weight    0\n",
              " Shell_weight\\t    0\n",
              " Rings             0\n",
              "dtype: int64"
            ]
          },
          "metadata": {},
          "execution_count": 7
        }
      ]
    },
    {
      "cell_type": "code",
      "source": [
        "df = pd.get_dummies(df, columns = ['Sex'])\n",
        "df"
      ],
      "metadata": {
        "colab": {
          "base_uri": "https://localhost:8080/",
          "height": 443
        },
        "id": "__uljJAMAQNI",
        "outputId": "4a838024-9c7c-42d7-f24f-9a1567adeaf8"
      },
      "execution_count": null,
      "outputs": [
        {
          "output_type": "execute_result",
          "data": {
            "text/plain": [
              "       Length   Diameter   Height   Whole_weight   Shucked_weight  \\\n",
              "0       0.455      0.365    0.095         0.5140           0.2245   \n",
              "1       0.350      0.265    0.090         0.2255           0.0995   \n",
              "2       0.530      0.420    0.135         0.6770           0.2565   \n",
              "3       0.440      0.365    0.125         0.5160           0.2155   \n",
              "4       0.330      0.255    0.080         0.2050           0.0895   \n",
              "...       ...        ...      ...            ...              ...   \n",
              "4172    0.565      0.450    0.165         0.8870           0.3700   \n",
              "4173    0.590      0.440    0.135         0.9660           0.4390   \n",
              "4174    0.600      0.475    0.205         1.1760           0.5255   \n",
              "4175    0.625      0.485    0.150         1.0945           0.5310   \n",
              "4176    0.710      0.555    0.195         1.9485           0.9455   \n",
              "\n",
              "       Viscera_weight   Shell_weight\\t   Rings  Sex_F  Sex_I  Sex_M  \n",
              "0              0.1010           0.1500      15  False  False   True  \n",
              "1              0.0485           0.0700       7  False  False   True  \n",
              "2              0.1415           0.2100       9   True  False  False  \n",
              "3              0.1140           0.1550      10  False  False   True  \n",
              "4              0.0395           0.0550       7  False   True  False  \n",
              "...               ...              ...     ...    ...    ...    ...  \n",
              "4172           0.2390           0.2490      11   True  False  False  \n",
              "4173           0.2145           0.2605      10  False  False   True  \n",
              "4174           0.2875           0.3080       9  False  False   True  \n",
              "4175           0.2610           0.2960      10   True  False  False  \n",
              "4176           0.3765           0.4950      12  False  False   True  \n",
              "\n",
              "[4177 rows x 11 columns]"
            ],
            "text/html": [
              "\n",
              "  <div id=\"df-24e26b1c-59bf-4844-bd66-5f8d71107aa4\" class=\"colab-df-container\">\n",
              "    <div>\n",
              "<style scoped>\n",
              "    .dataframe tbody tr th:only-of-type {\n",
              "        vertical-align: middle;\n",
              "    }\n",
              "\n",
              "    .dataframe tbody tr th {\n",
              "        vertical-align: top;\n",
              "    }\n",
              "\n",
              "    .dataframe thead th {\n",
              "        text-align: right;\n",
              "    }\n",
              "</style>\n",
              "<table border=\"1\" class=\"dataframe\">\n",
              "  <thead>\n",
              "    <tr style=\"text-align: right;\">\n",
              "      <th></th>\n",
              "      <th>Length</th>\n",
              "      <th>Diameter</th>\n",
              "      <th>Height</th>\n",
              "      <th>Whole_weight</th>\n",
              "      <th>Shucked_weight</th>\n",
              "      <th>Viscera_weight</th>\n",
              "      <th>Shell_weight\\t</th>\n",
              "      <th>Rings</th>\n",
              "      <th>Sex_F</th>\n",
              "      <th>Sex_I</th>\n",
              "      <th>Sex_M</th>\n",
              "    </tr>\n",
              "  </thead>\n",
              "  <tbody>\n",
              "    <tr>\n",
              "      <th>0</th>\n",
              "      <td>0.455</td>\n",
              "      <td>0.365</td>\n",
              "      <td>0.095</td>\n",
              "      <td>0.5140</td>\n",
              "      <td>0.2245</td>\n",
              "      <td>0.1010</td>\n",
              "      <td>0.1500</td>\n",
              "      <td>15</td>\n",
              "      <td>False</td>\n",
              "      <td>False</td>\n",
              "      <td>True</td>\n",
              "    </tr>\n",
              "    <tr>\n",
              "      <th>1</th>\n",
              "      <td>0.350</td>\n",
              "      <td>0.265</td>\n",
              "      <td>0.090</td>\n",
              "      <td>0.2255</td>\n",
              "      <td>0.0995</td>\n",
              "      <td>0.0485</td>\n",
              "      <td>0.0700</td>\n",
              "      <td>7</td>\n",
              "      <td>False</td>\n",
              "      <td>False</td>\n",
              "      <td>True</td>\n",
              "    </tr>\n",
              "    <tr>\n",
              "      <th>2</th>\n",
              "      <td>0.530</td>\n",
              "      <td>0.420</td>\n",
              "      <td>0.135</td>\n",
              "      <td>0.6770</td>\n",
              "      <td>0.2565</td>\n",
              "      <td>0.1415</td>\n",
              "      <td>0.2100</td>\n",
              "      <td>9</td>\n",
              "      <td>True</td>\n",
              "      <td>False</td>\n",
              "      <td>False</td>\n",
              "    </tr>\n",
              "    <tr>\n",
              "      <th>3</th>\n",
              "      <td>0.440</td>\n",
              "      <td>0.365</td>\n",
              "      <td>0.125</td>\n",
              "      <td>0.5160</td>\n",
              "      <td>0.2155</td>\n",
              "      <td>0.1140</td>\n",
              "      <td>0.1550</td>\n",
              "      <td>10</td>\n",
              "      <td>False</td>\n",
              "      <td>False</td>\n",
              "      <td>True</td>\n",
              "    </tr>\n",
              "    <tr>\n",
              "      <th>4</th>\n",
              "      <td>0.330</td>\n",
              "      <td>0.255</td>\n",
              "      <td>0.080</td>\n",
              "      <td>0.2050</td>\n",
              "      <td>0.0895</td>\n",
              "      <td>0.0395</td>\n",
              "      <td>0.0550</td>\n",
              "      <td>7</td>\n",
              "      <td>False</td>\n",
              "      <td>True</td>\n",
              "      <td>False</td>\n",
              "    </tr>\n",
              "    <tr>\n",
              "      <th>...</th>\n",
              "      <td>...</td>\n",
              "      <td>...</td>\n",
              "      <td>...</td>\n",
              "      <td>...</td>\n",
              "      <td>...</td>\n",
              "      <td>...</td>\n",
              "      <td>...</td>\n",
              "      <td>...</td>\n",
              "      <td>...</td>\n",
              "      <td>...</td>\n",
              "      <td>...</td>\n",
              "    </tr>\n",
              "    <tr>\n",
              "      <th>4172</th>\n",
              "      <td>0.565</td>\n",
              "      <td>0.450</td>\n",
              "      <td>0.165</td>\n",
              "      <td>0.8870</td>\n",
              "      <td>0.3700</td>\n",
              "      <td>0.2390</td>\n",
              "      <td>0.2490</td>\n",
              "      <td>11</td>\n",
              "      <td>True</td>\n",
              "      <td>False</td>\n",
              "      <td>False</td>\n",
              "    </tr>\n",
              "    <tr>\n",
              "      <th>4173</th>\n",
              "      <td>0.590</td>\n",
              "      <td>0.440</td>\n",
              "      <td>0.135</td>\n",
              "      <td>0.9660</td>\n",
              "      <td>0.4390</td>\n",
              "      <td>0.2145</td>\n",
              "      <td>0.2605</td>\n",
              "      <td>10</td>\n",
              "      <td>False</td>\n",
              "      <td>False</td>\n",
              "      <td>True</td>\n",
              "    </tr>\n",
              "    <tr>\n",
              "      <th>4174</th>\n",
              "      <td>0.600</td>\n",
              "      <td>0.475</td>\n",
              "      <td>0.205</td>\n",
              "      <td>1.1760</td>\n",
              "      <td>0.5255</td>\n",
              "      <td>0.2875</td>\n",
              "      <td>0.3080</td>\n",
              "      <td>9</td>\n",
              "      <td>False</td>\n",
              "      <td>False</td>\n",
              "      <td>True</td>\n",
              "    </tr>\n",
              "    <tr>\n",
              "      <th>4175</th>\n",
              "      <td>0.625</td>\n",
              "      <td>0.485</td>\n",
              "      <td>0.150</td>\n",
              "      <td>1.0945</td>\n",
              "      <td>0.5310</td>\n",
              "      <td>0.2610</td>\n",
              "      <td>0.2960</td>\n",
              "      <td>10</td>\n",
              "      <td>True</td>\n",
              "      <td>False</td>\n",
              "      <td>False</td>\n",
              "    </tr>\n",
              "    <tr>\n",
              "      <th>4176</th>\n",
              "      <td>0.710</td>\n",
              "      <td>0.555</td>\n",
              "      <td>0.195</td>\n",
              "      <td>1.9485</td>\n",
              "      <td>0.9455</td>\n",
              "      <td>0.3765</td>\n",
              "      <td>0.4950</td>\n",
              "      <td>12</td>\n",
              "      <td>False</td>\n",
              "      <td>False</td>\n",
              "      <td>True</td>\n",
              "    </tr>\n",
              "  </tbody>\n",
              "</table>\n",
              "<p>4177 rows × 11 columns</p>\n",
              "</div>\n",
              "    <div class=\"colab-df-buttons\">\n",
              "\n",
              "  <div class=\"colab-df-container\">\n",
              "    <button class=\"colab-df-convert\" onclick=\"convertToInteractive('df-24e26b1c-59bf-4844-bd66-5f8d71107aa4')\"\n",
              "            title=\"Convert this dataframe to an interactive table.\"\n",
              "            style=\"display:none;\">\n",
              "\n",
              "  <svg xmlns=\"http://www.w3.org/2000/svg\" height=\"24px\" viewBox=\"0 -960 960 960\">\n",
              "    <path d=\"M120-120v-720h720v720H120Zm60-500h600v-160H180v160Zm220 220h160v-160H400v160Zm0 220h160v-160H400v160ZM180-400h160v-160H180v160Zm440 0h160v-160H620v160ZM180-180h160v-160H180v160Zm440 0h160v-160H620v160Z\"/>\n",
              "  </svg>\n",
              "    </button>\n",
              "\n",
              "  <style>\n",
              "    .colab-df-container {\n",
              "      display:flex;\n",
              "      gap: 12px;\n",
              "    }\n",
              "\n",
              "    .colab-df-convert {\n",
              "      background-color: #E8F0FE;\n",
              "      border: none;\n",
              "      border-radius: 50%;\n",
              "      cursor: pointer;\n",
              "      display: none;\n",
              "      fill: #1967D2;\n",
              "      height: 32px;\n",
              "      padding: 0 0 0 0;\n",
              "      width: 32px;\n",
              "    }\n",
              "\n",
              "    .colab-df-convert:hover {\n",
              "      background-color: #E2EBFA;\n",
              "      box-shadow: 0px 1px 2px rgba(60, 64, 67, 0.3), 0px 1px 3px 1px rgba(60, 64, 67, 0.15);\n",
              "      fill: #174EA6;\n",
              "    }\n",
              "\n",
              "    .colab-df-buttons div {\n",
              "      margin-bottom: 4px;\n",
              "    }\n",
              "\n",
              "    [theme=dark] .colab-df-convert {\n",
              "      background-color: #3B4455;\n",
              "      fill: #D2E3FC;\n",
              "    }\n",
              "\n",
              "    [theme=dark] .colab-df-convert:hover {\n",
              "      background-color: #434B5C;\n",
              "      box-shadow: 0px 1px 3px 1px rgba(0, 0, 0, 0.15);\n",
              "      filter: drop-shadow(0px 1px 2px rgba(0, 0, 0, 0.3));\n",
              "      fill: #FFFFFF;\n",
              "    }\n",
              "  </style>\n",
              "\n",
              "    <script>\n",
              "      const buttonEl =\n",
              "        document.querySelector('#df-24e26b1c-59bf-4844-bd66-5f8d71107aa4 button.colab-df-convert');\n",
              "      buttonEl.style.display =\n",
              "        google.colab.kernel.accessAllowed ? 'block' : 'none';\n",
              "\n",
              "      async function convertToInteractive(key) {\n",
              "        const element = document.querySelector('#df-24e26b1c-59bf-4844-bd66-5f8d71107aa4');\n",
              "        const dataTable =\n",
              "          await google.colab.kernel.invokeFunction('convertToInteractive',\n",
              "                                                    [key], {});\n",
              "        if (!dataTable) return;\n",
              "\n",
              "        const docLinkHtml = 'Like what you see? Visit the ' +\n",
              "          '<a target=\"_blank\" href=https://colab.research.google.com/notebooks/data_table.ipynb>data table notebook</a>'\n",
              "          + ' to learn more about interactive tables.';\n",
              "        element.innerHTML = '';\n",
              "        dataTable['output_type'] = 'display_data';\n",
              "        await google.colab.output.renderOutput(dataTable, element);\n",
              "        const docLink = document.createElement('div');\n",
              "        docLink.innerHTML = docLinkHtml;\n",
              "        element.appendChild(docLink);\n",
              "      }\n",
              "    </script>\n",
              "  </div>\n",
              "\n",
              "\n",
              "<div id=\"df-4c7453a9-4de5-4aec-b724-c71305409f48\">\n",
              "  <button class=\"colab-df-quickchart\" onclick=\"quickchart('df-4c7453a9-4de5-4aec-b724-c71305409f48')\"\n",
              "            title=\"Suggest charts\"\n",
              "            style=\"display:none;\">\n",
              "\n",
              "<svg xmlns=\"http://www.w3.org/2000/svg\" height=\"24px\"viewBox=\"0 0 24 24\"\n",
              "     width=\"24px\">\n",
              "    <g>\n",
              "        <path d=\"M19 3H5c-1.1 0-2 .9-2 2v14c0 1.1.9 2 2 2h14c1.1 0 2-.9 2-2V5c0-1.1-.9-2-2-2zM9 17H7v-7h2v7zm4 0h-2V7h2v10zm4 0h-2v-4h2v4z\"/>\n",
              "    </g>\n",
              "</svg>\n",
              "  </button>\n",
              "\n",
              "<style>\n",
              "  .colab-df-quickchart {\n",
              "      --bg-color: #E8F0FE;\n",
              "      --fill-color: #1967D2;\n",
              "      --hover-bg-color: #E2EBFA;\n",
              "      --hover-fill-color: #174EA6;\n",
              "      --disabled-fill-color: #AAA;\n",
              "      --disabled-bg-color: #DDD;\n",
              "  }\n",
              "\n",
              "  [theme=dark] .colab-df-quickchart {\n",
              "      --bg-color: #3B4455;\n",
              "      --fill-color: #D2E3FC;\n",
              "      --hover-bg-color: #434B5C;\n",
              "      --hover-fill-color: #FFFFFF;\n",
              "      --disabled-bg-color: #3B4455;\n",
              "      --disabled-fill-color: #666;\n",
              "  }\n",
              "\n",
              "  .colab-df-quickchart {\n",
              "    background-color: var(--bg-color);\n",
              "    border: none;\n",
              "    border-radius: 50%;\n",
              "    cursor: pointer;\n",
              "    display: none;\n",
              "    fill: var(--fill-color);\n",
              "    height: 32px;\n",
              "    padding: 0;\n",
              "    width: 32px;\n",
              "  }\n",
              "\n",
              "  .colab-df-quickchart:hover {\n",
              "    background-color: var(--hover-bg-color);\n",
              "    box-shadow: 0 1px 2px rgba(60, 64, 67, 0.3), 0 1px 3px 1px rgba(60, 64, 67, 0.15);\n",
              "    fill: var(--button-hover-fill-color);\n",
              "  }\n",
              "\n",
              "  .colab-df-quickchart-complete:disabled,\n",
              "  .colab-df-quickchart-complete:disabled:hover {\n",
              "    background-color: var(--disabled-bg-color);\n",
              "    fill: var(--disabled-fill-color);\n",
              "    box-shadow: none;\n",
              "  }\n",
              "\n",
              "  .colab-df-spinner {\n",
              "    border: 2px solid var(--fill-color);\n",
              "    border-color: transparent;\n",
              "    border-bottom-color: var(--fill-color);\n",
              "    animation:\n",
              "      spin 1s steps(1) infinite;\n",
              "  }\n",
              "\n",
              "  @keyframes spin {\n",
              "    0% {\n",
              "      border-color: transparent;\n",
              "      border-bottom-color: var(--fill-color);\n",
              "      border-left-color: var(--fill-color);\n",
              "    }\n",
              "    20% {\n",
              "      border-color: transparent;\n",
              "      border-left-color: var(--fill-color);\n",
              "      border-top-color: var(--fill-color);\n",
              "    }\n",
              "    30% {\n",
              "      border-color: transparent;\n",
              "      border-left-color: var(--fill-color);\n",
              "      border-top-color: var(--fill-color);\n",
              "      border-right-color: var(--fill-color);\n",
              "    }\n",
              "    40% {\n",
              "      border-color: transparent;\n",
              "      border-right-color: var(--fill-color);\n",
              "      border-top-color: var(--fill-color);\n",
              "    }\n",
              "    60% {\n",
              "      border-color: transparent;\n",
              "      border-right-color: var(--fill-color);\n",
              "    }\n",
              "    80% {\n",
              "      border-color: transparent;\n",
              "      border-right-color: var(--fill-color);\n",
              "      border-bottom-color: var(--fill-color);\n",
              "    }\n",
              "    90% {\n",
              "      border-color: transparent;\n",
              "      border-bottom-color: var(--fill-color);\n",
              "    }\n",
              "  }\n",
              "</style>\n",
              "\n",
              "  <script>\n",
              "    async function quickchart(key) {\n",
              "      const quickchartButtonEl =\n",
              "        document.querySelector('#' + key + ' button');\n",
              "      quickchartButtonEl.disabled = true;  // To prevent multiple clicks.\n",
              "      quickchartButtonEl.classList.add('colab-df-spinner');\n",
              "      try {\n",
              "        const charts = await google.colab.kernel.invokeFunction(\n",
              "            'suggestCharts', [key], {});\n",
              "      } catch (error) {\n",
              "        console.error('Error during call to suggestCharts:', error);\n",
              "      }\n",
              "      quickchartButtonEl.classList.remove('colab-df-spinner');\n",
              "      quickchartButtonEl.classList.add('colab-df-quickchart-complete');\n",
              "    }\n",
              "    (() => {\n",
              "      let quickchartButtonEl =\n",
              "        document.querySelector('#df-4c7453a9-4de5-4aec-b724-c71305409f48 button');\n",
              "      quickchartButtonEl.style.display =\n",
              "        google.colab.kernel.accessAllowed ? 'block' : 'none';\n",
              "    })();\n",
              "  </script>\n",
              "</div>\n",
              "    </div>\n",
              "  </div>\n"
            ],
            "application/vnd.google.colaboratory.intrinsic+json": {
              "type": "dataframe",
              "variable_name": "df",
              "summary": "{\n  \"name\": \"df\",\n  \"rows\": 4177,\n  \"fields\": [\n    {\n      \"column\": \" Length\",\n      \"properties\": {\n        \"dtype\": \"number\",\n        \"std\": 0.12009291256479956,\n        \"min\": 0.075,\n        \"max\": 0.815,\n        \"num_unique_values\": 134,\n        \"samples\": [\n          0.815,\n          0.65,\n          0.29\n        ],\n        \"semantic_type\": \"\",\n        \"description\": \"\"\n      }\n    },\n    {\n      \"column\": \" Diameter\",\n      \"properties\": {\n        \"dtype\": \"number\",\n        \"std\": 0.09923986613365945,\n        \"min\": 0.055,\n        \"max\": 0.65,\n        \"num_unique_values\": 111,\n        \"samples\": [\n          0.09,\n          0.35,\n          0.3\n        ],\n        \"semantic_type\": \"\",\n        \"description\": \"\"\n      }\n    },\n    {\n      \"column\": \" Height\",\n      \"properties\": {\n        \"dtype\": \"number\",\n        \"std\": 0.041827056607257274,\n        \"min\": 0.0,\n        \"max\": 1.13,\n        \"num_unique_values\": 51,\n        \"samples\": [\n          0.235,\n          0.035,\n          0.015\n        ],\n        \"semantic_type\": \"\",\n        \"description\": \"\"\n      }\n    },\n    {\n      \"column\": \" Whole_weight\",\n      \"properties\": {\n        \"dtype\": \"number\",\n        \"std\": 0.4903890182309977,\n        \"min\": 0.002,\n        \"max\": 2.8255,\n        \"num_unique_values\": 2429,\n        \"samples\": [\n          1.2825,\n          1.09,\n          0.131\n        ],\n        \"semantic_type\": \"\",\n        \"description\": \"\"\n      }\n    },\n    {\n      \"column\": \" Shucked_weight\",\n      \"properties\": {\n        \"dtype\": \"number\",\n        \"std\": 0.22196294903322014,\n        \"min\": 0.001,\n        \"max\": 1.488,\n        \"num_unique_values\": 1515,\n        \"samples\": [\n          0.2105,\n          0.0645,\n          0.476\n        ],\n        \"semantic_type\": \"\",\n        \"description\": \"\"\n      }\n    },\n    {\n      \"column\": \" Viscera_weight\",\n      \"properties\": {\n        \"dtype\": \"number\",\n        \"std\": 0.10961425025968446,\n        \"min\": 0.0005,\n        \"max\": 0.76,\n        \"num_unique_values\": 880,\n        \"samples\": [\n          0.0645,\n          0.0095,\n          0.1115\n        ],\n        \"semantic_type\": \"\",\n        \"description\": \"\"\n      }\n    },\n    {\n      \"column\": \" Shell_weight\\t\",\n      \"properties\": {\n        \"dtype\": \"number\",\n        \"std\": 0.1392026695223861,\n        \"min\": 0.0015,\n        \"max\": 1.005,\n        \"num_unique_values\": 926,\n        \"samples\": [\n          0.3745,\n          0.2825,\n          0.49\n        ],\n        \"semantic_type\": \"\",\n        \"description\": \"\"\n      }\n    },\n    {\n      \"column\": \" Rings\",\n      \"properties\": {\n        \"dtype\": \"number\",\n        \"std\": 3,\n        \"min\": 1,\n        \"max\": 29,\n        \"num_unique_values\": 28,\n        \"samples\": [\n          11,\n          27,\n          14\n        ],\n        \"semantic_type\": \"\",\n        \"description\": \"\"\n      }\n    },\n    {\n      \"column\": \"Sex_F\",\n      \"properties\": {\n        \"dtype\": \"boolean\",\n        \"num_unique_values\": 2,\n        \"samples\": [\n          true,\n          false\n        ],\n        \"semantic_type\": \"\",\n        \"description\": \"\"\n      }\n    },\n    {\n      \"column\": \"Sex_I\",\n      \"properties\": {\n        \"dtype\": \"boolean\",\n        \"num_unique_values\": 2,\n        \"samples\": [\n          true,\n          false\n        ],\n        \"semantic_type\": \"\",\n        \"description\": \"\"\n      }\n    },\n    {\n      \"column\": \"Sex_M\",\n      \"properties\": {\n        \"dtype\": \"boolean\",\n        \"num_unique_values\": 2,\n        \"samples\": [\n          false,\n          true\n        ],\n        \"semantic_type\": \"\",\n        \"description\": \"\"\n      }\n    }\n  ]\n}"
            }
          },
          "metadata": {},
          "execution_count": 7
        }
      ]
    },
    {
      "cell_type": "markdown",
      "source": [
        "Como é possível ver abaixo, há alguns problemas com os nomes dos atributos."
      ],
      "metadata": {
        "id": "n0Re_QegZSLY"
      }
    },
    {
      "cell_type": "code",
      "source": [
        "df.columns"
      ],
      "metadata": {
        "colab": {
          "base_uri": "https://localhost:8080/"
        },
        "id": "f1mKPAvUZMBb",
        "outputId": "be5a704e-8b17-41f0-8b84-f4cb22028f8b"
      },
      "execution_count": null,
      "outputs": [
        {
          "output_type": "execute_result",
          "data": {
            "text/plain": [
              "Index([' Length', ' Diameter', ' Height', ' Whole_weight', ' Shucked_weight',\n",
              "       ' Viscera_weight', ' Shell_weight\\t', ' Rings', 'Sex_F', 'Sex_I',\n",
              "       'Sex_M'],\n",
              "      dtype='object')"
            ]
          },
          "metadata": {},
          "execution_count": 8
        }
      ]
    },
    {
      "cell_type": "markdown",
      "source": [
        "Vamos renomeá-los:"
      ],
      "metadata": {
        "id": "EcgUfYZwZYuM"
      }
    },
    {
      "cell_type": "code",
      "source": [
        "df.rename(columns = {' Length': 'length', ' Diameter': 'diameter', ' Height': 'height', ' Whole_weight': 'whole_weight', ' Shucked_weight': 'shucked_weight',\n",
        "       ' Viscera_weight': 'viscera_weight', ' Shell_weight\\t': 'shell_weight', ' Rings': 'rings'}, inplace = True)"
      ],
      "metadata": {
        "id": "fgH7SJsdZb0G"
      },
      "execution_count": null,
      "outputs": []
    },
    {
      "cell_type": "code",
      "source": [
        "df.columns"
      ],
      "metadata": {
        "colab": {
          "base_uri": "https://localhost:8080/"
        },
        "id": "sqZjUj_CaIfI",
        "outputId": "c79516b4-22ca-4c84-8fb1-c5e82ad9ff6e"
      },
      "execution_count": null,
      "outputs": [
        {
          "output_type": "execute_result",
          "data": {
            "text/plain": [
              "Index(['length', 'diameter', 'height', 'whole_weight', 'shucked_weight',\n",
              "       'viscera_weight', 'shell_weight', 'rings', 'Sex_F', 'Sex_I', 'Sex_M'],\n",
              "      dtype='object')"
            ]
          },
          "metadata": {},
          "execution_count": 11
        }
      ]
    },
    {
      "cell_type": "markdown",
      "source": [
        "Selecionando os atributos preditores e alvo:"
      ],
      "metadata": {
        "id": "M7ruqGISaPR6"
      }
    },
    {
      "cell_type": "code",
      "source": [
        "X = df.drop(['rings'], axis = 1)\n",
        "y = df['rings']"
      ],
      "metadata": {
        "id": "xwqfoQV3YIf3"
      },
      "execution_count": null,
      "outputs": []
    },
    {
      "cell_type": "markdown",
      "source": [
        "Teremos que \"consertar\" o formato de y:"
      ],
      "metadata": {
        "id": "sIlaeZ0zaVra"
      }
    },
    {
      "cell_type": "code",
      "source": [
        "print(X.shape, y.shape)"
      ],
      "metadata": {
        "colab": {
          "base_uri": "https://localhost:8080/"
        },
        "id": "qUUeFFgGYceU",
        "outputId": "0011fe22-9451-4426-a417-3a2112b9c86c"
      },
      "execution_count": null,
      "outputs": [
        {
          "output_type": "stream",
          "name": "stdout",
          "text": [
            "(4177, 10) (4177,)\n"
          ]
        }
      ]
    },
    {
      "cell_type": "code",
      "source": [
        "y = y.values.reshape(-1,1)\n",
        "print(y.shape)"
      ],
      "metadata": {
        "colab": {
          "base_uri": "https://localhost:8080/"
        },
        "id": "ayZiYpoIaehj",
        "outputId": "21d6a138-0420-4551-ee7b-8a18d3b61f80"
      },
      "execution_count": null,
      "outputs": [
        {
          "output_type": "stream",
          "name": "stdout",
          "text": [
            "(4177, 1)\n"
          ]
        }
      ]
    },
    {
      "cell_type": "markdown",
      "source": [
        "# Subset Selection\n",
        "\n",
        "Para fazermos subset selection, teremos que utilizar [loops](https://www.geeksforgeeks.org/loops-in-python/), estruturas de repetição.\n",
        "\n",
        "Além disso, faremos o uso da função `combinations`, que será responsável por fazer as combinações necessárias para o subset selection.\n",
        "\n",
        "Documentação: [itertools.combinations](https://docs.python.org/3/library/itertools.html#itertools.combinations)"
      ],
      "metadata": {
        "id": "2QM2KfuQwKpY"
      }
    },
    {
      "cell_type": "code",
      "source": [
        "dicionario_r2 = {}"
      ],
      "metadata": {
        "id": "WJxUAmLrfYJd"
      },
      "execution_count": null,
      "outputs": []
    },
    {
      "cell_type": "markdown",
      "source": [
        "## Best Subset Selection"
      ],
      "metadata": {
        "id": "lprJQL2MwXPq"
      }
    },
    {
      "cell_type": "code",
      "source": [
        "len(X.columns)"
      ],
      "metadata": {
        "colab": {
          "base_uri": "https://localhost:8080/"
        },
        "id": "IHoWxeeZapn_",
        "outputId": "d279510e-c84e-461a-861e-2c9fbcc16185"
      },
      "execution_count": null,
      "outputs": [
        {
          "output_type": "execute_result",
          "data": {
            "text/plain": [
              "10"
            ]
          },
          "metadata": {},
          "execution_count": 14
        }
      ]
    },
    {
      "cell_type": "markdown",
      "source": [
        "Para usarmos a padronização dos dados em uma validação cruzada, teremos que fazer uso da função `Pipeline()`\n",
        "\n",
        "Documentação: [range()](https://www.w3schools.com/python/ref_func_range.asp)\n",
        "\n",
        "Documentação: [pipeline()](https://scikit-learn.org/stable/modules/generated/sklearn.pipeline.Pipeline.html)"
      ],
      "metadata": {
        "id": "OUs3X113a9ym"
      }
    },
    {
      "cell_type": "code",
      "execution_count": null,
      "metadata": {
        "id": "W553LVRrv7Ke",
        "colab": {
          "base_uri": "https://localhost:8080/"
        },
        "outputId": "53fe0d23-1898-4862-8079-f4969dafc1e7"
      },
      "outputs": [
        {
          "output_type": "stream",
          "name": "stdout",
          "text": [
            "('diameter', 'height', 'whole_weight', 'shucked_weight', 'viscera_weight', 'shell_weight', 'Sex_I')\n",
            "0.41937919963555076\n"
          ]
        }
      ],
      "source": [
        "linear = LinearRegression()\n",
        "scaler = StandardScaler()\n",
        "\n",
        "# Faça a padronização dos dados e depois a regressão linear\n",
        "pipe = Pipeline([('scaler', scaler), ('estimator', linear)] )\n",
        "\n",
        "# Melhor r2_score para aquele número de atributos\n",
        "r2_cols = []\n",
        "cols = []\n",
        "\n",
        "# Melhor r2_score em geral\n",
        "r2_best = 0\n",
        "# Atributos desse melhor modelo\n",
        "cols_best = []\n",
        "\n",
        "# Loop que vai de 1 até 11\n",
        "for i in range(1, len(X.columns) + 1):\n",
        "\n",
        "  r2_ = 0\n",
        "  cols_ = []\n",
        "\n",
        "  for comb in combinations(X.columns, i):\n",
        "\n",
        "    scores = cross_val_score(pipe, X[list(comb)], y, cv = 5, scoring = 'r2')\n",
        "\n",
        "    if scores.mean() > r2_:\n",
        "      #Melhor r2_score em geral\n",
        "      r2_ = scores.mean()\n",
        "      cols_ = comb\n",
        "\n",
        "  # No final desse loop, quero que o melhor r2_score daquele número de atributos seja adicionado a r2_cols\n",
        "  r2_cols.append([r2_, cols_])\n",
        "\n",
        "  if r2_ > r2_best:\n",
        "    #Melhor r2_score em geral e sua combinação de atributos\n",
        "    r2_best = r2_\n",
        "    cols_best = cols_\n",
        "\n",
        "\n",
        "print(cols_best)\n",
        "print(r2_best)"
      ]
    },
    {
      "cell_type": "markdown",
      "source": [
        "Em `r2_cols`, podemos ver a melhor combinação de atributos com o respectivo número de variáveis."
      ],
      "metadata": {
        "id": "TO2TyanBor2_"
      }
    },
    {
      "cell_type": "code",
      "source": [
        "r2_cols"
      ],
      "metadata": {
        "colab": {
          "base_uri": "https://localhost:8080/"
        },
        "id": "h618aHOejPyU",
        "outputId": "78ea1ec2-cadb-4256-f361-5ccf3f123011"
      },
      "execution_count": null,
      "outputs": [
        {
          "output_type": "execute_result",
          "data": {
            "text/plain": [
              "[[0.24303049045150216, ('shell_weight',)],\n",
              " [0.3683737099818569, ('shucked_weight', 'shell_weight')],\n",
              " [0.3998631605820431, ('shucked_weight', 'shell_weight', 'Sex_I')],\n",
              " [0.40681269675883486,\n",
              "  ('diameter', 'shucked_weight', 'shell_weight', 'Sex_I')],\n",
              " [0.410548133863743,\n",
              "  ('diameter', 'whole_weight', 'shucked_weight', 'shell_weight', 'Sex_I')],\n",
              " [0.4174532775495775,\n",
              "  ('diameter',\n",
              "   'whole_weight',\n",
              "   'shucked_weight',\n",
              "   'viscera_weight',\n",
              "   'shell_weight',\n",
              "   'Sex_I')],\n",
              " [0.41937919963555076,\n",
              "  ('diameter',\n",
              "   'height',\n",
              "   'whole_weight',\n",
              "   'shucked_weight',\n",
              "   'viscera_weight',\n",
              "   'shell_weight',\n",
              "   'Sex_I')],\n",
              " [0.41924273048650873,\n",
              "  ('diameter',\n",
              "   'height',\n",
              "   'whole_weight',\n",
              "   'shucked_weight',\n",
              "   'viscera_weight',\n",
              "   'shell_weight',\n",
              "   'Sex_F',\n",
              "   'Sex_M')],\n",
              " [0.4186023342895323,\n",
              "  ('length',\n",
              "   'diameter',\n",
              "   'height',\n",
              "   'whole_weight',\n",
              "   'shucked_weight',\n",
              "   'viscera_weight',\n",
              "   'shell_weight',\n",
              "   'Sex_F',\n",
              "   'Sex_I')],\n",
              " [0.41860233428953225,\n",
              "  ('length',\n",
              "   'diameter',\n",
              "   'height',\n",
              "   'whole_weight',\n",
              "   'shucked_weight',\n",
              "   'viscera_weight',\n",
              "   'shell_weight',\n",
              "   'Sex_F',\n",
              "   'Sex_I',\n",
              "   'Sex_M')]]"
            ]
          },
          "metadata": {},
          "execution_count": 16
        }
      ]
    },
    {
      "cell_type": "markdown",
      "source": [
        "Adicionando em um dicionário para comparação posterior."
      ],
      "metadata": {
        "id": "z7czXuDbhnIW"
      }
    },
    {
      "cell_type": "code",
      "source": [
        "dicionario_r2['Best Subset Selection'] = r2_best"
      ],
      "metadata": {
        "id": "SAqpztnqf4Aq"
      },
      "execution_count": null,
      "outputs": []
    },
    {
      "cell_type": "markdown",
      "source": [
        "## Forward Stepwise"
      ],
      "metadata": {
        "id": "cbCB1hWmwaNO"
      }
    },
    {
      "cell_type": "code",
      "source": [
        "linear = LinearRegression()\n",
        "scaler = StandardScaler()\n",
        "\n",
        "\"\"\"\n",
        "Aqui está a diferença desse código para o código de best subset selection:\n",
        "Toda vez que o loop interno acabar, irei forçar que o atributo que fez a função performar melhor\n",
        "esteja na próxima seleção de melhor atributo\n",
        "\"\"\"\n",
        "atributos = []\n",
        "atributos_restantes = list(X.columns.values)\n",
        "\n",
        "\n",
        "# Faça a padronização dos dados e depois a regressão linear\n",
        "pipe = Pipeline([('scaler', scaler), ('estimator', linear)] )\n",
        "\n",
        "# Melhor r2_score e o número de atributos\n",
        "r2_cols_forward = []\n",
        "\n",
        "# Melhor r2_score em geral\n",
        "r2_forward = 0\n",
        "# Atributos desse melhor modelo\n",
        "cols_forward = []\n",
        "\n",
        "# Loop que vai de 1 até 11\n",
        "for i in range(1, len(X.columns.values) + 1):\n",
        "\n",
        "  r2_ = 0\n",
        "  cols_ = []\n",
        "\n",
        "  for comb in combinations(atributos_restantes, 1):\n",
        "\n",
        "    scores = cross_val_score(pipe, X[list(comb) + atributos], y, cv = 5, scoring = 'r2')\n",
        "\n",
        "    if scores.mean() > r2_:\n",
        "      #Melhor r2_score em geral\n",
        "      r2_ = scores.mean()\n",
        "      cols_ = list(comb) + atributos\n",
        "      atributo_ = comb[0]\n",
        "\n",
        "  # No final desse loop interno, quero que o melhor r2_score daquele número de atributos seja adicionado a r2_cols_forward\n",
        "  r2_cols_forward.append([r2_, cols_])\n",
        "  # E que esses atributos sejam retirados dos atributos_restantes\n",
        "  atributos_restantes.remove(atributo_)\n",
        "  atributos.append(atributo_)\n",
        "\n",
        "\n",
        "  if r2_ > r2_forward:\n",
        "    #Melhor r2_score em geral e sua combinação de atributos\n",
        "    r2_forward = r2_\n",
        "    cols_forward = cols_\n",
        "\n",
        "\n",
        "print(cols_forward)\n",
        "print(r2_forward)"
      ],
      "metadata": {
        "colab": {
          "base_uri": "https://localhost:8080/"
        },
        "id": "Ey5zi1IEqNnu",
        "outputId": "ba7fc038-58ac-4ecc-c01d-faaaa1ce07ca"
      },
      "execution_count": null,
      "outputs": [
        {
          "output_type": "stream",
          "name": "stdout",
          "text": [
            "['height', 'shell_weight', 'shucked_weight', 'Sex_I', 'diameter', 'whole_weight', 'viscera_weight']\n",
            "0.41937919963555076\n"
          ]
        }
      ]
    },
    {
      "cell_type": "markdown",
      "source": [
        "Em `r2_cols_forward`, podemos ver a melhor combinação de atributos com o respectivo número de variáveis."
      ],
      "metadata": {
        "id": "GOq6XdEWki_F"
      }
    },
    {
      "cell_type": "code",
      "source": [
        "r2_cols_forward"
      ],
      "metadata": {
        "colab": {
          "base_uri": "https://localhost:8080/"
        },
        "id": "NCkF1KNwkaxl",
        "outputId": "5a7f2e9c-df79-4680-dc55-fae1d37611d9"
      },
      "execution_count": null,
      "outputs": [
        {
          "output_type": "execute_result",
          "data": {
            "text/plain": [
              "[[0.24303049045150216, ['shell_weight']],\n",
              " [0.3683737099818569, ['shucked_weight', 'shell_weight']],\n",
              " [0.39986316058204296, ['Sex_I', 'shell_weight', 'shucked_weight']],\n",
              " [0.4068126967588349, ['diameter', 'shell_weight', 'shucked_weight', 'Sex_I']],\n",
              " [0.41054813386374295,\n",
              "  ['whole_weight', 'shell_weight', 'shucked_weight', 'Sex_I', 'diameter']],\n",
              " [0.41745327754957773,\n",
              "  ['viscera_weight',\n",
              "   'shell_weight',\n",
              "   'shucked_weight',\n",
              "   'Sex_I',\n",
              "   'diameter',\n",
              "   'whole_weight']],\n",
              " [0.41937919963555076,\n",
              "  ['height',\n",
              "   'shell_weight',\n",
              "   'shucked_weight',\n",
              "   'Sex_I',\n",
              "   'diameter',\n",
              "   'whole_weight',\n",
              "   'viscera_weight']],\n",
              " [0.4192427304865086,\n",
              "  ['Sex_F',\n",
              "   'shell_weight',\n",
              "   'shucked_weight',\n",
              "   'Sex_I',\n",
              "   'diameter',\n",
              "   'whole_weight',\n",
              "   'viscera_weight',\n",
              "   'height']],\n",
              " [0.41860233428953253,\n",
              "  ['length',\n",
              "   'shell_weight',\n",
              "   'shucked_weight',\n",
              "   'Sex_I',\n",
              "   'diameter',\n",
              "   'whole_weight',\n",
              "   'viscera_weight',\n",
              "   'height',\n",
              "   'Sex_F']],\n",
              " [0.41722301333387896,\n",
              "  ['Sex_M',\n",
              "   'shell_weight',\n",
              "   'shucked_weight',\n",
              "   'Sex_I',\n",
              "   'diameter',\n",
              "   'whole_weight',\n",
              "   'viscera_weight',\n",
              "   'height',\n",
              "   'Sex_F',\n",
              "   'length']]]"
            ]
          },
          "metadata": {},
          "execution_count": 22
        }
      ]
    },
    {
      "cell_type": "markdown",
      "source": [
        "Adicionando em um dicionário para comparação posterior."
      ],
      "metadata": {
        "id": "Kvzil6jukuot"
      }
    },
    {
      "cell_type": "code",
      "source": [
        "dicionario_r2['Forward Stepwise Selection'] = r2_forward"
      ],
      "metadata": {
        "id": "8e9tblOHkmE8"
      },
      "execution_count": null,
      "outputs": []
    },
    {
      "cell_type": "markdown",
      "source": [
        "## Backward Stepwise"
      ],
      "metadata": {
        "id": "zjLHZPiwwdf6"
      }
    },
    {
      "cell_type": "code",
      "source": [
        "linear = LinearRegression()\n",
        "scaler = StandardScaler()\n",
        "\n",
        "\"\"\"\n",
        "Aqui está a diferença desse código para o código de best subset selection:\n",
        "Toda vez que o loop interno acabar, irei fazer com que a variável menos\n",
        "significativa seja excluída\n",
        "\"\"\"\n",
        "\n",
        "atributos_restantes = list(X.columns.values)\n",
        "\n",
        "\n",
        "# Faça a padronização dos dados e depois a regressão linear\n",
        "pipe = Pipeline([('scaler', scaler), ('estimator', linear)] )\n",
        "\n",
        "# Melhor r2_score e o número de atributos\n",
        "r2_cols_backward = []\n",
        "\n",
        "# Melhor r2_score em geral\n",
        "r2_backward = 0\n",
        "\n",
        "# Atributos desse melhor modelo\n",
        "cols_backward = []\n",
        "\n",
        "# Loop que vai de 10 até 1\n",
        "for i in range(len(X.columns.values), 0, -1):\n",
        "\n",
        "  r2_ = 0\n",
        "  cols_ = []\n",
        "\n",
        "  for comb in combinations(atributos_restantes, i):\n",
        "\n",
        "    scores = cross_val_score(pipe, X[list(comb)], y, cv = 5, scoring = 'r2')\n",
        "\n",
        "    if scores.mean() > r2_:\n",
        "      #Melhor r2_score em geral\n",
        "      r2_ = scores.mean()\n",
        "      cols_ = list(comb)\n",
        "\n",
        "  # No final desse loop interno, quero que o melhor r2_score daquele número de atributos seja adicionado a r2_cols_backward\n",
        "  r2_cols_backward.append([r2_, cols_])\n",
        "\n",
        "  # E que esses atributos substituam os atributos_restantes\n",
        "  atributos_restantes = cols_\n",
        "\n",
        "  if r2_ > r2_backward:\n",
        "    #Melhor r2_score em geral e sua combinação de atributos\n",
        "    r2_backward = r2_\n",
        "    cols_backward = cols_\n",
        "\n",
        "\n",
        "print(cols_backward)\n",
        "print(r2_backward)"
      ],
      "metadata": {
        "colab": {
          "base_uri": "https://localhost:8080/"
        },
        "id": "vZbZ1qQ2lXDc",
        "outputId": "8d08b2c5-a378-4693-aa0e-772921f5eace"
      },
      "execution_count": null,
      "outputs": [
        {
          "output_type": "stream",
          "name": "stdout",
          "text": [
            "['diameter', 'height', 'whole_weight', 'shucked_weight', 'viscera_weight', 'shell_weight', 'Sex_I']\n",
            "0.41937919963555076\n"
          ]
        }
      ]
    },
    {
      "cell_type": "code",
      "source": [
        "r2_cols_backward"
      ],
      "metadata": {
        "colab": {
          "base_uri": "https://localhost:8080/"
        },
        "id": "yAT2zorDtROF",
        "outputId": "a026a970-568f-4788-f6e1-31393158ecb1"
      },
      "execution_count": null,
      "outputs": [
        {
          "output_type": "execute_result",
          "data": {
            "text/plain": [
              "[[0.41860233428953225,\n",
              "  ['length',\n",
              "   'diameter',\n",
              "   'height',\n",
              "   'whole_weight',\n",
              "   'shucked_weight',\n",
              "   'viscera_weight',\n",
              "   'shell_weight',\n",
              "   'Sex_F',\n",
              "   'Sex_I',\n",
              "   'Sex_M']],\n",
              " [0.4186023342895323,\n",
              "  ['length',\n",
              "   'diameter',\n",
              "   'height',\n",
              "   'whole_weight',\n",
              "   'shucked_weight',\n",
              "   'viscera_weight',\n",
              "   'shell_weight',\n",
              "   'Sex_F',\n",
              "   'Sex_I']],\n",
              " [0.41924273048650845,\n",
              "  ['diameter',\n",
              "   'height',\n",
              "   'whole_weight',\n",
              "   'shucked_weight',\n",
              "   'viscera_weight',\n",
              "   'shell_weight',\n",
              "   'Sex_F',\n",
              "   'Sex_I']],\n",
              " [0.41937919963555076,\n",
              "  ['diameter',\n",
              "   'height',\n",
              "   'whole_weight',\n",
              "   'shucked_weight',\n",
              "   'viscera_weight',\n",
              "   'shell_weight',\n",
              "   'Sex_I']],\n",
              " [0.4174532775495775,\n",
              "  ['diameter',\n",
              "   'whole_weight',\n",
              "   'shucked_weight',\n",
              "   'viscera_weight',\n",
              "   'shell_weight',\n",
              "   'Sex_I']],\n",
              " [0.410548133863743,\n",
              "  ['diameter', 'whole_weight', 'shucked_weight', 'shell_weight', 'Sex_I']],\n",
              " [0.40681269675883486,\n",
              "  ['diameter', 'shucked_weight', 'shell_weight', 'Sex_I']],\n",
              " [0.3998631605820431, ['shucked_weight', 'shell_weight', 'Sex_I']],\n",
              " [0.3683737099818569, ['shucked_weight', 'shell_weight']],\n",
              " [0.24303049045150216, ['shell_weight']]]"
            ]
          },
          "metadata": {},
          "execution_count": 22
        }
      ]
    },
    {
      "cell_type": "markdown",
      "source": [
        "Adicionando em um dicionário para comparação posterior."
      ],
      "metadata": {
        "id": "CsfYi_Js3BUc"
      }
    },
    {
      "cell_type": "code",
      "source": [
        "dicionario_r2['Backward Stepwise Selection'] = r2_backward"
      ],
      "metadata": {
        "id": "lJX3-n2Ir4SE"
      },
      "execution_count": null,
      "outputs": []
    },
    {
      "cell_type": "markdown",
      "source": [
        "# Regularização"
      ],
      "metadata": {
        "id": "DVsV5G4GwPTI"
      }
    },
    {
      "cell_type": "markdown",
      "source": [
        "## Ridge Regression\n",
        "\n",
        "O funcionamento do código de Ridge Regression é bem similar ao de regressão linear.\n",
        "\n",
        "O diferencial é o parâmetro de afinação ou penalidade λ. Por [lambda](https://www.w3schools.com/python/python_lambda.asp) ser uma palavra reservada em Python, alpha é o parâmetro que corresponde a essa penalidade no código.\n",
        "\n",
        "Para usarmos cross-validation, podemos utilizar o `cross_val_score` ou podemos utilizar o `RidgeCV`.\n",
        "\n",
        "Qual a diferença de usar um ou outro? Com o RidgeCV não conseguiremos padronizar os dados sem vazar informação do treinamento para o teste.\n",
        "\n",
        "Quando padronizamos os dados de treinamento e teste juntos, estamos dando informações da média e distribuição do data set de treinamento para as observações de teste. Isso é algo que geralmente queremos evitar para diminuir o overfitting dos dados.\n",
        "\n",
        "Documentação: [Ridge Regression](https://scikit-learn.org/stable/modules/generated/sklearn.linear_model.Ridge.html)\n",
        "\n",
        "Documentação: [RidgeCV](https://scikit-learn.org/stable/modules/generated/sklearn.linear_model.RidgeCV.html#sklearn.linear_model.RidgeCV)\n"
      ],
      "metadata": {
        "id": "2mGOf2BYwj1e"
      }
    },
    {
      "cell_type": "code",
      "source": [
        "from sklearn.linear_model import Ridge"
      ],
      "metadata": {
        "id": "iuuZkSyV60UJ"
      },
      "execution_count": null,
      "outputs": []
    },
    {
      "cell_type": "markdown",
      "source": [
        "Abaixo está a maneira mais simples de utilizar a função. Perceba, porém, que ela não utiliza de uma abordagem de validação cruzada, então seu resultado de R² pode ser um sobreajuste (overfitting)."
      ],
      "metadata": {
        "id": "Q3PGUVpv79Ga"
      }
    },
    {
      "cell_type": "code",
      "source": [
        "# Chamando minha função e determinando seus parâmetros\n",
        "ridge = Ridge(alpha = 1.0)\n",
        "\n",
        "# Ajustando o modelo\n",
        "ridge.fit(X, y)\n",
        "\n",
        "# Medindo sua acurácia\n",
        "ridge.score(X, y)"
      ],
      "metadata": {
        "id": "3zsIxKiPwVUS",
        "colab": {
          "base_uri": "https://localhost:8080/"
        },
        "outputId": "fea3168d-ba7a-4f1e-daa6-2b9c64691b6f"
      },
      "execution_count": null,
      "outputs": [
        {
          "output_type": "execute_result",
          "data": {
            "text/plain": [
              "0.535485070082645"
            ]
          },
          "metadata": {},
          "execution_count": 27
        }
      ]
    },
    {
      "cell_type": "markdown",
      "source": [
        "### Cross-Validation"
      ],
      "metadata": {
        "id": "yh5rLPOr9Fho"
      }
    },
    {
      "cell_type": "markdown",
      "source": [
        "Note que o valor de R² quando fazemos uma validação cruzada é menor."
      ],
      "metadata": {
        "id": "qR5wHo5q82BE"
      }
    },
    {
      "cell_type": "code",
      "source": [
        "# Chamando minha função e determinando seus parâmetros\n",
        "ridge = Ridge(alpha = 1.0)\n",
        "\n",
        "# Validação Cruzada no RidgeRegression\n",
        "cross = cross_val_score(ridge, X, y, cv = 5)\n",
        "\n",
        "# Média dos valores de R² da validação cruzada\n",
        "cross.mean()"
      ],
      "metadata": {
        "colab": {
          "base_uri": "https://localhost:8080/"
        },
        "id": "VlEdApKA8RQm",
        "outputId": "0907ee08-3b15-4e29-fc92-4e25683544d3"
      },
      "execution_count": null,
      "outputs": [
        {
          "output_type": "execute_result",
          "data": {
            "text/plain": [
              "0.4270936572522762"
            ]
          },
          "metadata": {},
          "execution_count": 28
        }
      ]
    },
    {
      "cell_type": "markdown",
      "source": [
        "### Pipeline - Padronização\n",
        "\n",
        "Nos códigos anteriores, fizemos a regressão com os dados brutos, ou seja, com os dados não padronizados. Faremos agora uma pipeline de uma regressão com padronização."
      ],
      "metadata": {
        "id": "FfasItLL9IFW"
      }
    },
    {
      "cell_type": "code",
      "source": [
        "# Chamando minha função e determinando seus parâmetros\n",
        "ridge = Ridge(alpha = 1.0)\n",
        "\n",
        "# Padronização\n",
        "scaler = StandardScaler()\n",
        "\n",
        "# Comando que vai sequenciar os passos\n",
        "pipe = Pipeline([('scaler', scaler), ('estimator', ridge)])\n",
        "\n",
        "# Validação cruzada com Ridge Regression e os dados padronizados\n",
        "cross = cross_val_score(pipe, X, y, cv = 5)\n",
        "\n",
        "# Média dos valores de R² da validação cruzada\n",
        "cross.mean()"
      ],
      "metadata": {
        "colab": {
          "base_uri": "https://localhost:8080/"
        },
        "id": "LvFLcD7v9LVb",
        "outputId": "6b8b52ef-861d-456c-8564-7858282309ab"
      },
      "execution_count": null,
      "outputs": [
        {
          "output_type": "execute_result",
          "data": {
            "text/plain": [
              "0.41937750551538927"
            ]
          },
          "metadata": {},
          "execution_count": 29
        }
      ]
    },
    {
      "cell_type": "markdown",
      "source": [
        "Adicionando em um dicionário para comparação posterior."
      ],
      "metadata": {
        "id": "FDEGXsYVhfyl"
      }
    },
    {
      "cell_type": "code",
      "source": [
        "dicionario_r2['Ridge Regression'] = cross.mean()"
      ],
      "metadata": {
        "id": "XY8k3s9dglTv"
      },
      "execution_count": null,
      "outputs": []
    },
    {
      "cell_type": "markdown",
      "source": [
        "Veremos outro método mais para frente, mas uma das formas de se encontrar o parâmetro de afinação λ é com o uso de loops."
      ],
      "metadata": {
        "id": "DAvsMgCMgSxd"
      }
    },
    {
      "cell_type": "code",
      "source": [
        "# Lista com valores de lambda para o parâmetro de afinação\n",
        "lambdas = [1e-3, 1e-2, 1e-1, 1, 10, 100, 1000]\n",
        "\n",
        "# Melhor lambda\n",
        "best_lambda = 0\n",
        "\n",
        "# Chamando minha função e determinando seus parâmetros\n",
        "\n",
        "\n",
        "# Padronização\n",
        "scaler = StandardScaler()\n",
        "\n",
        "for i in lambdas:\n",
        "  # Comando que vai sequenciar os passos\n",
        "  pipe = Pipeline([('scaler', scaler), ('estimator', Ridge(alpha = i))])\n",
        "\n",
        "  # Validação cruzada com Ridge Regression e os dados padronizados\n",
        "  cross = cross_val_score(pipe, X, y, cv = 5)\n",
        "\n",
        "  print(cross.mean(), i)\n",
        "\n",
        "print(best_lambda)"
      ],
      "metadata": {
        "colab": {
          "base_uri": "https://localhost:8080/"
        },
        "id": "o0DLgtLx_qIL",
        "outputId": "a8618d75-6e9c-4fd6-d098-ae9f500812f6"
      },
      "execution_count": null,
      "outputs": [
        {
          "output_type": "stream",
          "name": "stdout",
          "text": [
            "0.41860319809750485 0.001\n",
            "0.418610963813438 0.01\n",
            "0.4186877799729814 0.1\n",
            "0.41937750551538927 1\n",
            "0.4218607360097124 10\n",
            "0.4088624115197389 100\n",
            "0.3037939174181604 1000\n",
            "0\n"
          ]
        }
      ]
    },
    {
      "cell_type": "markdown",
      "source": [
        "## Lasso\n",
        "\n",
        "Novamente, o funcionamento do código é bem similar ao que vimos. Só devemos especificar o parâmetro de afinação.\n",
        "\n",
        "Documentação: [Lasso](https://scikit-learn.org/stable/modules/generated/sklearn.linear_model.Lasso.html)"
      ],
      "metadata": {
        "id": "MdAhLjL6wnj1"
      }
    },
    {
      "cell_type": "code",
      "source": [
        "from sklearn.linear_model import Lasso"
      ],
      "metadata": {
        "id": "P3riXE1YBLHm"
      },
      "execution_count": null,
      "outputs": []
    },
    {
      "cell_type": "code",
      "source": [
        "# Chamando minha função e determinando seus parâmetros\n",
        "lass = Lasso(alpha = .001)\n",
        "\n",
        "# Ajustando o modelo\n",
        "lass.fit(X, y)\n",
        "\n",
        "# Acurácia do modelo\n",
        "lass.score(X, y)"
      ],
      "metadata": {
        "colab": {
          "base_uri": "https://localhost:8080/"
        },
        "id": "jZ1auEvCA_VT",
        "outputId": "87427bba-f286-4eea-9394-53849d29e327"
      },
      "execution_count": null,
      "outputs": [
        {
          "output_type": "execute_result",
          "data": {
            "text/plain": [
              "0.5374194462275808"
            ]
          },
          "metadata": {},
          "execution_count": 35
        }
      ]
    },
    {
      "cell_type": "markdown",
      "source": [
        "Note que provavelmente temos o mesmo problema do overfitting."
      ],
      "metadata": {
        "id": "o69HuLHoB62P"
      }
    },
    {
      "cell_type": "markdown",
      "source": [
        "### Cross-Validation\n",
        "\n",
        "Podemos usar `cross_val_score()` ou `cross_validate`.\n",
        "\n",
        "O `LassoCV` é especialmente útil para descobrirmos o parâmetro de afinação, uma vez que ele nos permite achar o valor ótimo de `alpha`.\n",
        "\n",
        "Documentação: [LassoCV](https://scikit-learn.org/stable/modules/generated/sklearn.linear_model.LassoCV.html#sklearn.linear_model.LassoCV)"
      ],
      "metadata": {
        "id": "OhXItw_uCCdy"
      }
    },
    {
      "cell_type": "code",
      "source": [
        "from sklearn.linear_model import LassoCV"
      ],
      "metadata": {
        "id": "4TU0_CEJDhlY"
      },
      "execution_count": null,
      "outputs": []
    },
    {
      "cell_type": "markdown",
      "source": [
        "Este passo só é necessário porque a função pede que o formato de y seja (n, ), e não (n, 1)"
      ],
      "metadata": {
        "id": "BVIJY8yTEjn2"
      }
    },
    {
      "cell_type": "code",
      "source": [
        "y = df['rings']\n",
        "y.shape"
      ],
      "metadata": {
        "colab": {
          "base_uri": "https://localhost:8080/"
        },
        "id": "o_NRKDbvEeC1",
        "outputId": "14320353-16b2-45a7-db4b-cdabd1efb182"
      },
      "execution_count": null,
      "outputs": [
        {
          "output_type": "execute_result",
          "data": {
            "text/plain": [
              "(4177,)"
            ]
          },
          "metadata": {},
          "execution_count": 37
        }
      ]
    },
    {
      "cell_type": "code",
      "source": [
        "# Determinando os parâmetros e ajustando o modelo\n",
        "lass = LassoCV(cv = 5, random_state = 23).fit(X, y)\n",
        "\n",
        "# Performance do modelo\n",
        "print(f\"R²: {lass.score(X, y)}\")\n",
        "\n",
        "# Parâmetro de Afinação\n",
        "print(f\"λ: {lass.alpha_}\")"
      ],
      "metadata": {
        "colab": {
          "base_uri": "https://localhost:8080/"
        },
        "id": "8Xbo5edWCBb_",
        "outputId": "fb74901a-d357-479a-ad38-d29ab311f3e6"
      },
      "execution_count": null,
      "outputs": [
        {
          "output_type": "stream",
          "name": "stdout",
          "text": [
            "R²: 0.5374356599569114\n",
            "λ: 0.0009821270162846901\n"
          ]
        }
      ]
    },
    {
      "cell_type": "markdown",
      "source": [
        "De fato, o valor de R² dos códigos supracitados estão com sobreajuste."
      ],
      "metadata": {
        "id": "NBFgXH1KHVgK"
      }
    },
    {
      "cell_type": "code",
      "source": [
        "# Lasso e seus parâmetros\n",
        "lass = Lasso(alpha = 0.0009821270162846901)\n",
        "\n",
        "# Cross-validation\n",
        "cross = cross_val_score(lass, X, y, cv = 5)\n",
        "\n",
        "# Performance do modelo\n",
        "print(f\"R²: {cross.mean()}\")"
      ],
      "metadata": {
        "colab": {
          "base_uri": "https://localhost:8080/"
        },
        "id": "pd3_kUoOGAMW",
        "outputId": "82ca25f7-57e0-4b97-9663-02f268a93fdb"
      },
      "execution_count": null,
      "outputs": [
        {
          "output_type": "stream",
          "name": "stdout",
          "text": [
            "R²: 0.42173396537382624\n"
          ]
        }
      ]
    },
    {
      "cell_type": "markdown",
      "source": [
        "### Pipeline - Padronização"
      ],
      "metadata": {
        "id": "OgcT-6A9Hc4D"
      }
    },
    {
      "cell_type": "code",
      "source": [
        "# Lasso e seus parâmetros\n",
        "lass = Lasso(alpha = 0.0009821270162846901)\n",
        "\n",
        "# Padronização\n",
        "scaler = StandardScaler()\n",
        "\n",
        "# Pipeline\n",
        "pipe = Pipeline([('scaler', scaler), ('estimator', lass)])\n",
        "\n",
        "# Cross-validation com os dados padronizados\n",
        "cross = cross_validate(pipe, X, y, cv = 5, return_estimator=True)\n",
        "\n",
        "# Performance do modelo\n",
        "print(f\"R²: {cross['test_score'].mean()}\")"
      ],
      "metadata": {
        "colab": {
          "base_uri": "https://localhost:8080/"
        },
        "id": "ttAjDQBqHfvP",
        "outputId": "6db6c3d1-5444-4d47-e418-0300255ac08d"
      },
      "execution_count": null,
      "outputs": [
        {
          "output_type": "stream",
          "name": "stdout",
          "text": [
            "R²: 0.41918241172547194\n"
          ]
        }
      ]
    },
    {
      "cell_type": "markdown",
      "source": [
        "Adicionando em um dicionário para comparação posterior."
      ],
      "metadata": {
        "id": "J-vNiMymhVyb"
      }
    },
    {
      "cell_type": "code",
      "source": [
        "dicionario_r2['Lasso'] = cross['test_score'].mean()"
      ],
      "metadata": {
        "id": "XHFRcl54g0P_"
      },
      "execution_count": null,
      "outputs": []
    },
    {
      "cell_type": "markdown",
      "source": [
        "Com Cross-Validation, é mais difícil ter os coeficientes do nosso modelo, mas com o parâmetro `return_estimator = True` em `cross_validate` conseguimos acessar esses coeficientes:"
      ],
      "metadata": {
        "id": "iBU5-xr9JEOE"
      }
    },
    {
      "cell_type": "code",
      "source": [
        "for model in cross['estimator']:\n",
        "  print(model['estimator'].coef_)"
      ],
      "metadata": {
        "colab": {
          "base_uri": "https://localhost:8080/"
        },
        "id": "b1cGTgipIePB",
        "outputId": "66ceb8c9-4936-41d0-f9ef-7d7046225455"
      },
      "execution_count": null,
      "outputs": [
        {
          "output_type": "stream",
          "name": "stdout",
          "text": [
            "[ 0.22979503  0.57141537  0.34973211  2.86489762 -3.30517497 -0.83619336\n",
            "  1.58187039 -0.         -0.32656164  0.06395804]\n",
            "[-0.05461624  1.26244815  0.46113092  4.69594271 -4.62856293 -1.1659268\n",
            "  1.10257282 -0.         -0.36316016  0.0295254 ]\n",
            "[-0.06684856  0.96801651  0.78303656  4.17948811 -4.19226623 -1.21844491\n",
            "  1.06206773 -0.         -0.3967313   0.0078289 ]\n",
            "[ 0.03797382  1.12671602  0.41965232  5.02634253 -4.82845629 -1.22866528\n",
            "  1.0501538  -0.         -0.37967057  0.02867815]\n",
            "[-1.54547182e-01  1.24721446e+00  3.89433560e-01  4.37748095e+00\n",
            " -4.39730461e+00 -1.15152055e+00  1.33071015e+00 -0.00000000e+00\n",
            " -4.00583404e-01  3.20126029e-03]\n"
          ]
        }
      ]
    },
    {
      "cell_type": "code",
      "source": [
        "X.columns"
      ],
      "metadata": {
        "colab": {
          "base_uri": "https://localhost:8080/"
        },
        "id": "QUr76SuuoPuI",
        "outputId": "852190b8-077d-4f6f-e56c-962871bea62b"
      },
      "execution_count": null,
      "outputs": [
        {
          "output_type": "execute_result",
          "data": {
            "text/plain": [
              "Index(['length', 'diameter', 'height', 'whole_weight', 'shucked_weight',\n",
              "       'viscera_weight', 'shell_weight', 'Sex_F', 'Sex_I', 'Sex_M'],\n",
              "      dtype='object')"
            ]
          },
          "metadata": {},
          "execution_count": 42
        }
      ]
    },
    {
      "cell_type": "markdown",
      "source": [
        "# Redução de Dimensionalidade\n",
        "\n",
        "Funcionamento praticamente igual aos outros:\n",
        "\n",
        "1. Padronização (`StandardScaler()`);\n",
        "2. Redução de Dimensionalidade (PCA ou PLS);\n",
        "3. Regressão."
      ],
      "metadata": {
        "id": "1G7_sqkfwRd5"
      }
    },
    {
      "cell_type": "markdown",
      "source": [
        "## PCA\n",
        "\n",
        "Faremos o uso da `Pipeline` para sequenciar nossa ação.\n",
        "\n",
        "Documentação: [PCA](https://scikit-learn.org/stable/modules/generated/sklearn.decomposition.PCA.html)\n",
        "\n"
      ],
      "metadata": {
        "id": "K4Hey4sBwqM3"
      }
    },
    {
      "cell_type": "code",
      "source": [
        "from sklearn.decomposition import PCA"
      ],
      "metadata": {
        "id": "Q0y8kfIEMXsy"
      },
      "execution_count": null,
      "outputs": []
    },
    {
      "cell_type": "code",
      "source": [
        "# Determinando o número de componentes (parâmetros de PCA)\n",
        "pca = PCA(n_components = 2)\n",
        "\n",
        "# Regressão Linear\n",
        "linear = LinearRegression()\n",
        "\n",
        "# Padronização\n",
        "scaler = StandardScaler()\n",
        "\n",
        "# Pipeline\n",
        "pipe = Pipeline(steps = [('scaler', scaler), ('reduce_dim', pca), ('linreg', linear)])\n",
        "\n",
        "# Cross-Validation\n",
        "cross = cross_validate(pipe, X, y, cv = 10)"
      ],
      "metadata": {
        "id": "ujlEcRelSvC2"
      },
      "execution_count": null,
      "outputs": []
    },
    {
      "cell_type": "code",
      "source": [
        "print(f\"R²: {cross['test_score'].mean()}\")"
      ],
      "metadata": {
        "colab": {
          "base_uri": "https://localhost:8080/"
        },
        "id": "wpEuDY_xXdfG",
        "outputId": "9f19a45c-be0e-4210-8751-fd3f405f060f"
      },
      "execution_count": null,
      "outputs": [
        {
          "output_type": "stream",
          "name": "stdout",
          "text": [
            "R²: 0.12210017339005749\n"
          ]
        }
      ]
    },
    {
      "cell_type": "markdown",
      "source": [
        "O desempenho desse modelo foi péssimo!\n",
        "\n",
        "Podemos ver se o número de componentes foi o responsável usando o `GridSearchCV`, uma função que permite encontrar o melhor parâmetro de afinação por meio da validação cruzada.\n",
        "\n",
        "Documentação: [GridSearchCV](https://scikit-learn.org/stable/modules/generated/sklearn.model_selection.GridSearchCV.html)"
      ],
      "metadata": {
        "id": "RjyKkqpvSEkF"
      }
    },
    {
      "cell_type": "code",
      "source": [
        "from sklearn.model_selection import GridSearchCV"
      ],
      "metadata": {
        "id": "IsusrKzOSqH7"
      },
      "execution_count": null,
      "outputs": []
    },
    {
      "cell_type": "code",
      "source": [
        "# Determinando os parâmetros que queremos encontrar o valor ótimo\n",
        "parameters = {'pca__n_components': range(1, 9)}\n",
        "\n",
        "# Determinando o número de componentes (parâmetros de PCA)\n",
        "pca = PCA()\n",
        "\n",
        "# Regressão Linear\n",
        "linear = LinearRegression()\n",
        "\n",
        "# Padronização\n",
        "scaler = StandardScaler()\n",
        "\n",
        "# Pipeline\n",
        "pipe = Pipeline(steps = [('scaler', scaler), ('pca', pca), ('linreg', linear)])\n",
        "\n",
        "# GridSearchCV\n",
        "search = GridSearchCV(estimator = pipe, param_grid = parameters)\n",
        "\n",
        "search.fit(X, y)\n",
        "\n",
        "print(search.best_params_)"
      ],
      "metadata": {
        "id": "v6WDDVy7wUM1",
        "colab": {
          "base_uri": "https://localhost:8080/"
        },
        "outputId": "db04586b-5232-41ce-ead2-24e8bbb858c3"
      },
      "execution_count": null,
      "outputs": [
        {
          "output_type": "stream",
          "name": "stdout",
          "text": [
            "{'pca__n_components': 7}\n"
          ]
        }
      ]
    },
    {
      "cell_type": "code",
      "source": [
        "# Cross-validation com os parâmetros de GridSearchCV\n",
        "cross = cross_validate(search, X, y, cv = 5)"
      ],
      "metadata": {
        "id": "BceUmfNdW0Uo"
      },
      "execution_count": null,
      "outputs": []
    },
    {
      "cell_type": "code",
      "source": [
        "print(f\"R²: {cross['test_score'].mean()}\")"
      ],
      "metadata": {
        "colab": {
          "base_uri": "https://localhost:8080/"
        },
        "id": "2GEicA1SWKNo",
        "outputId": "5299cbc4-7faf-4eb9-8864-d4c0ea2ddfaf"
      },
      "execution_count": null,
      "outputs": [
        {
          "output_type": "stream",
          "name": "stdout",
          "text": [
            "R²: 0.40654397796303865\n"
          ]
        }
      ]
    },
    {
      "cell_type": "markdown",
      "source": [
        "Adicionando em um dicionário para comparação posterior."
      ],
      "metadata": {
        "id": "6Ty4cY1QhyEH"
      }
    },
    {
      "cell_type": "code",
      "source": [
        "dicionario_r2['PCA'] = cross['test_score'].mean()"
      ],
      "metadata": {
        "id": "e6N_8xaPhs0e"
      },
      "execution_count": null,
      "outputs": []
    },
    {
      "cell_type": "markdown",
      "source": [
        "## PLS\n",
        "\n",
        "Mesmo funcionamento do PCR, com a exceção de que não precisamos usar uma regressão linear para ajustarmos o modelo. Isto é, o método `PLSRegression` já faz a redução de dimensionalidade e treina o modelo.\n",
        "\n",
        "Documentação: [PLS](https://scikit-learn.org/stable/modules/generated/sklearn.cross_decomposition.PLSRegression.html#sklearn.cross_decomposition.PLSRegression)"
      ],
      "metadata": {
        "id": "YeXrRhUkwuVC"
      }
    },
    {
      "cell_type": "code",
      "source": [
        "from sklearn.cross_decomposition import PLSRegression"
      ],
      "metadata": {
        "id": "JYfs0_MBbIsk"
      },
      "execution_count": null,
      "outputs": []
    },
    {
      "cell_type": "code",
      "source": [
        "# Determinando os parâmetros que queremos encontrar o valor ótimo\n",
        "parameters = {'pls__n_components': range(1, 9)}\n",
        "\n",
        "# Determinando o número de componentes (parâmetros de PLS)\n",
        "pls = PLSRegression()\n",
        "\n",
        "# Padronização\n",
        "scaler = StandardScaler()\n",
        "\n",
        "# Pipeline\n",
        "pipe = Pipeline(steps = [('scaler', scaler), ('pls', pls)])\n",
        "\n",
        "# GridSearchCV\n",
        "search = GridSearchCV(estimator = pipe, param_grid = parameters)\n",
        "\n",
        "search.fit(X, y)\n",
        "\n",
        "print(search.best_params_)"
      ],
      "metadata": {
        "colab": {
          "base_uri": "https://localhost:8080/"
        },
        "id": "WqMQoe_FbOii",
        "outputId": "f081f2f0-2f36-4020-ecd4-0a7ff7f6b2b1"
      },
      "execution_count": null,
      "outputs": [
        {
          "output_type": "stream",
          "name": "stdout",
          "text": [
            "{'pls__n_components': 6}\n"
          ]
        }
      ]
    },
    {
      "cell_type": "code",
      "source": [
        "cross = cross_validate(search, X, y, cv = 5)"
      ],
      "metadata": {
        "id": "gShEXy8Qc72B"
      },
      "execution_count": null,
      "outputs": []
    },
    {
      "cell_type": "code",
      "source": [
        "print(f\"R²: {cross['test_score'].mean()}\")"
      ],
      "metadata": {
        "colab": {
          "base_uri": "https://localhost:8080/"
        },
        "id": "TXgfumRVdfcU",
        "outputId": "ad853e7d-0ebb-47a6-b488-151ef3601405"
      },
      "execution_count": null,
      "outputs": [
        {
          "output_type": "stream",
          "name": "stdout",
          "text": [
            "R²: 0.41269448492401467\n"
          ]
        }
      ]
    },
    {
      "cell_type": "markdown",
      "source": [
        "Adicionando em um dicionário para comparação posterior."
      ],
      "metadata": {
        "id": "j4ZAM7_kh4Jb"
      }
    },
    {
      "cell_type": "code",
      "source": [
        "dicionario_r2['PLS'] = cross['test_score'].mean()"
      ],
      "metadata": {
        "id": "qav_ZOOih4mO"
      },
      "execution_count": null,
      "outputs": []
    },
    {
      "cell_type": "markdown",
      "source": [
        "# Comparação entre Modelos"
      ],
      "metadata": {
        "id": "1xLn3Ik5eGEr"
      }
    },
    {
      "cell_type": "code",
      "source": [
        "d = pd.Series(dicionario_r2)\n",
        "print(d)"
      ],
      "metadata": {
        "colab": {
          "base_uri": "https://localhost:8080/"
        },
        "id": "-pPD6Gz4iADF",
        "outputId": "0f4cc3a3-713b-4841-8e79-6a82de2e6fb6"
      },
      "execution_count": null,
      "outputs": [
        {
          "output_type": "stream",
          "name": "stdout",
          "text": [
            "Best Subset Selection          0.419379\n",
            "Forward Stepwise Selection     0.419379\n",
            "Backward Stepwise Selection    0.419379\n",
            "Ridge Regression               0.419378\n",
            "Lasso                          0.419182\n",
            "PCA                            0.406544\n",
            "PLS                            0.412694\n",
            "dtype: float64\n"
          ]
        }
      ]
    },
    {
      "cell_type": "markdown",
      "source": [
        "# Desafio\n",
        "Aplique esses conceitos no data set de [Diabetes](https://scikit-learn.org/stable/datasets/toy_dataset.html#diabetes-dataset) do scikit-learn."
      ],
      "metadata": {
        "id": "hJaHLULaOyQV"
      }
    },
    {
      "cell_type": "markdown",
      "source": [
        "# Referências\n",
        "\n",
        "SICOTTE, X. Choosing the optimal model: Subset selection. Data Blog, 2018. Disponível em [Choosing the optimal model: Subset selection](https://xavierbourretsicotte.github.io/subset_selection.html).\n",
        "\n",
        "SCIKIT-LEARN. Pipelines and composite estimators. Scikit-Learn, [s.d]. Disponível em [Pipelines and composite estimators](https://scikit-learn.org/stable/modules/compose.html#pipeline)\n",
        "\n",
        "VAROQUAUX, G; et al. Pipelining: chaining a PCA and a logistic regression. Scikit-Learn, [s.d]. Disponível em [Pipelining: chaining a PCA and a logistic regression](https://scikit-learn.org/stable/auto_examples/compose/plot_digits_pipe.html)\n",
        "\n",
        "RUTECKI, M. GridSearchCV + KFold CV: The Right Way. Kaggle, 2023. Disponível em [GridSearchCV + KFold CV: The Right Way](https://www.kaggle.com/code/marcinrutecki/gridsearchcv-kfold-cv-the-right-way)\n",
        "\n",
        "SCIKIT-LEARN. Principal Component Regression vs Partial Least Squares Regression. Scikit-Learn, [s.d]. Disponível em [Principal Component Regression vs Partial Least Squares Regression](https://scikit-learn.org/stable/auto_examples/cross_decomposition/plot_pcr_vs_pls.html)"
      ],
      "metadata": {
        "id": "fe2v0I3tYmK6"
      }
    }
  ]
}